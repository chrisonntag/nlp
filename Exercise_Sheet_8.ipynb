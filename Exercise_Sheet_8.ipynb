{
 "cells": [
  {
   "cell_type": "markdown",
   "metadata": {},
   "source": [
    "# Natural Language Processing\n",
    "\n",
    "## Exercise Sheet 8"
   ]
  },
  {
   "cell_type": "code",
   "execution_count": 1,
   "metadata": {},
   "outputs": [],
   "source": [
    "#imports for all exercises\n",
    "import os\n",
    "import nltk\n",
    "import re\n",
    "import pprint\n",
    "import random\n",
    "import itertools\n",
    "import matplotlib.pyplot as plt\n",
    "import nltk.classify as classify\n",
    "import svgling\n",
    "from collections import defaultdict\n",
    "import nltk.grammar as grammar\n",
    "\n",
    "from nltk.corpus import treebank"
   ]
  },
  {
   "cell_type": "markdown",
   "metadata": {},
   "source": [
    "### Exercise 1\n",
    "\n",
    "Write a recursive function to traverse a tree and return the depth of the tree, such that a tree with a single node would have depth zero. (Hint: the depth of a subtree is the maximum depth of its children, plus one.)\n",
    "Test your function with the two trees produced by the `ChartParser` for the `groucho_grammar` and the sentence \"I shot an elephant in my pajamas\". The result can be verified with the `Tree.height()` function.\n",
    "\n"
   ]
  },
  {
   "cell_type": "code",
   "execution_count": 2,
   "metadata": {},
   "outputs": [
    {
     "name": "stdout",
     "output_type": "stream",
     "text": [
      "(S\n",
      "  (NP I)\n",
      "  (VP\n",
      "    (VP (V shot) (NP (Det an) (N elephant)))\n",
      "    (PP (P in) (NP (Det my) (N pajamas)))))\n",
      "(S\n",
      "  (NP I)\n",
      "  (VP\n",
      "    (V shot)\n",
      "    (NP (Det an) (N elephant) (PP (P in) (NP (Det my) (N pajamas))))))\n"
     ]
    }
   ],
   "source": [
    "groucho_grammar = nltk.CFG.fromstring(\"\"\"\n",
    "S -> NP VP\n",
    "PP -> P NP\n",
    "NP -> Det N | Det N PP | 'I'\n",
    "VP -> V NP | VP PP\n",
    "Det -> 'an' | 'my'\n",
    "N -> 'elephant' | 'pajamas'\n",
    "V -> 'shot'\n",
    "P -> 'in'\n",
    "\"\"\")\n",
    "sent = ['I', 'shot', 'an', 'elephant', 'in', 'my', 'pajamas']\n",
    "parser = nltk.ChartParser(groucho_grammar)\n",
    "for tree in parser.parse(sent):\n",
    "    print(tree)"
   ]
  },
  {
   "cell_type": "code",
   "execution_count": 3,
   "metadata": {},
   "outputs": [],
   "source": [
    "def depth(t):\n",
    "    if len(t) <= 1:\n",
    "        return 0\n",
    "    else:\n",
    "        depths = []\n",
    "        for child in t:\n",
    "            depths.append(depth(child))\n",
    "        \n",
    "        return max(depths) + 1"
   ]
  },
  {
   "cell_type": "code",
   "execution_count": 4,
   "metadata": {},
   "outputs": [
    {
     "name": "stdout",
     "output_type": "stream",
     "text": [
      "4\n",
      "5\n"
     ]
    }
   ],
   "source": [
    "for tree in parser.parse(sent):\n",
    "    print(depth(tree))"
   ]
  },
  {
   "cell_type": "code",
   "execution_count": 5,
   "metadata": {},
   "outputs": [
    {
     "name": "stdout",
     "output_type": "stream",
     "text": [
      "6\n",
      "7\n"
     ]
    }
   ],
   "source": [
    "for tree in parser.parse(sent):\n",
    "    print(tree.height())"
   ]
  },
  {
   "cell_type": "code",
   "execution_count": 6,
   "metadata": {},
   "outputs": [
    {
     "data": {
      "image/svg+xml": [
       "<svg baseProfile=\"full\" height=\"216px\" preserveAspectRatio=\"xMidYMid meet\" style=\"font-family: times, serif; font-weight:normal; font-style: normal; font-size: 16px;\" version=\"1.1\" viewBox=\"0,0,224.0,216.0\" width=\"224px\" xmlns=\"http://www.w3.org/2000/svg\" xmlns:ev=\"http://www.w3.org/2001/xml-events\" xmlns:xlink=\"http://www.w3.org/1999/xlink\"><defs /><svg width=\"100%\" x=\"0\" y=\"0em\"><defs /><text text-anchor=\"middle\" x=\"50%\" y=\"1em\">S</text></svg><svg width=\"35.7143%\" x=\"0%\" y=\"3em\"><defs /><svg width=\"100%\" x=\"0\" y=\"0em\"><defs /><text text-anchor=\"middle\" x=\"50%\" y=\"1em\">NP</text></svg><svg width=\"50%\" x=\"0%\" y=\"3em\"><defs /><svg width=\"100%\" x=\"0\" y=\"0em\"><defs /><text text-anchor=\"middle\" x=\"50%\" y=\"1em\">D</text></svg><svg width=\"100%\" x=\"0%\" y=\"3em\"><defs /><svg width=\"100%\" x=\"0\" y=\"0em\"><defs /><text text-anchor=\"middle\" x=\"50%\" y=\"1em\">the</text></svg></svg><line stroke=\"black\" x1=\"50%\" x2=\"50%\" y1=\"1.2em\" y2=\"3em\" /></svg><line stroke=\"black\" x1=\"50%\" x2=\"25%\" y1=\"1.2em\" y2=\"3em\" /><svg width=\"50%\" x=\"50%\" y=\"3em\"><defs /><svg width=\"100%\" x=\"0\" y=\"0em\"><defs /><text text-anchor=\"middle\" x=\"50%\" y=\"1em\">N</text></svg><svg width=\"100%\" x=\"0%\" y=\"3em\"><defs /><svg width=\"100%\" x=\"0\" y=\"0em\"><defs /><text text-anchor=\"middle\" x=\"50%\" y=\"1em\">dog</text></svg></svg><line stroke=\"black\" x1=\"50%\" x2=\"50%\" y1=\"1.2em\" y2=\"3em\" /></svg><line stroke=\"black\" x1=\"50%\" x2=\"75%\" y1=\"1.2em\" y2=\"3em\" /></svg><line stroke=\"black\" x1=\"50%\" x2=\"17.8571%\" y1=\"1.2em\" y2=\"3em\" /><svg width=\"64.2857%\" x=\"35.7143%\" y=\"3em\"><defs /><svg width=\"100%\" x=\"0\" y=\"0em\"><defs /><text text-anchor=\"middle\" x=\"50%\" y=\"1em\">VP</text></svg><svg width=\"44.4444%\" x=\"0%\" y=\"3em\"><defs /><svg width=\"100%\" x=\"0\" y=\"0em\"><defs /><text text-anchor=\"middle\" x=\"50%\" y=\"1em\">V</text></svg><svg width=\"100%\" x=\"0%\" y=\"3em\"><defs /><svg width=\"100%\" x=\"0\" y=\"0em\"><defs /><text text-anchor=\"middle\" x=\"50%\" y=\"1em\">chased</text></svg></svg><line stroke=\"black\" x1=\"50%\" x2=\"50%\" y1=\"1.2em\" y2=\"3em\" /></svg><line stroke=\"black\" x1=\"50%\" x2=\"22.2222%\" y1=\"1.2em\" y2=\"3em\" /><svg width=\"55.5556%\" x=\"44.4444%\" y=\"3em\"><defs /><svg width=\"100%\" x=\"0\" y=\"0em\"><defs /><text text-anchor=\"middle\" x=\"50%\" y=\"1em\">NP</text></svg><svg width=\"50%\" x=\"0%\" y=\"3em\"><defs /><svg width=\"100%\" x=\"0\" y=\"0em\"><defs /><text text-anchor=\"middle\" x=\"50%\" y=\"1em\">D</text></svg><svg width=\"100%\" x=\"0%\" y=\"3em\"><defs /><svg width=\"100%\" x=\"0\" y=\"0em\"><defs /><text text-anchor=\"middle\" x=\"50%\" y=\"1em\">the</text></svg></svg><line stroke=\"black\" x1=\"50%\" x2=\"50%\" y1=\"1.2em\" y2=\"3em\" /></svg><line stroke=\"black\" x1=\"50%\" x2=\"25%\" y1=\"1.2em\" y2=\"3em\" /><svg width=\"50%\" x=\"50%\" y=\"3em\"><defs /><svg width=\"100%\" x=\"0\" y=\"0em\"><defs /><text text-anchor=\"middle\" x=\"50%\" y=\"1em\">N</text></svg><svg width=\"100%\" x=\"0%\" y=\"3em\"><defs /><svg width=\"100%\" x=\"0\" y=\"0em\"><defs /><text text-anchor=\"middle\" x=\"50%\" y=\"1em\">cat</text></svg></svg><line stroke=\"black\" x1=\"50%\" x2=\"50%\" y1=\"1.2em\" y2=\"3em\" /></svg><line stroke=\"black\" x1=\"50%\" x2=\"75%\" y1=\"1.2em\" y2=\"3em\" /></svg><line stroke=\"black\" x1=\"50%\" x2=\"72.2222%\" y1=\"1.2em\" y2=\"3em\" /></svg><line stroke=\"black\" x1=\"50%\" x2=\"67.8571%\" y1=\"1.2em\" y2=\"3em\" /></svg>"
      ],
      "text/plain": [
       "TreeLayout(Tree('S', [Tree('NP', [Tree('D', ['the']), Tree('N', ['dog'])]), Tree('VP', [Tree('V', ['chased']), Tree('NP', [Tree('D', ['the']), Tree('N', ['cat'])])])]))"
      ]
     },
     "execution_count": 6,
     "metadata": {},
     "output_type": "execute_result"
    }
   ],
   "source": [
    "# single node ==> should return 0\n",
    "single_node = nltk.Tree.fromstring('(S)')\n",
    "\n",
    "# two children at same height ==> should return 1\n",
    "height_one = nltk.Tree.fromstring('(S (NP I) (VP am))') \n",
    "\n",
    "# compare to drawing: tree should return a height of 3 if the first node is 0\n",
    "doc = nltk.Tree.fromstring(\"(S (NP (D the) (N dog)) (VP (V chased) (NP (D the) (N cat))))\") \n",
    "svgling.draw_tree(doc)"
   ]
  },
  {
   "cell_type": "code",
   "execution_count": 7,
   "metadata": {},
   "outputs": [
    {
     "name": "stdout",
     "output_type": "stream",
     "text": [
      "Recursive depth:  0\n",
      "Recursive depth:  1\n",
      "Recursive depth:  3\n",
      "\n",
      "Tree.height():  1\n",
      "Tree.height():  3\n",
      "Tree.height():  5\n"
     ]
    }
   ],
   "source": [
    "print(\"Recursive depth: \", depth(single_node))\n",
    "print(\"Recursive depth: \", depth(height_one))\n",
    "print(\"Recursive depth: \", depth(doc))\n",
    "print(\"\")\n",
    "print(\"Tree.height(): \", single_node.height())\n",
    "print(\"Tree.height(): \", height_one.height())\n",
    "print(\"Tree.height(): \", doc.height())"
   ]
  },
  {
   "cell_type": "markdown",
   "metadata": {},
   "source": [
    "In this exercise, the task definition differs from what the documentation of ```nltk.Tree```'s ```height()``` method describes. Excerpt from the code documentation:\n",
    "\n",
    "```\n",
    ".\n",
    ".\n",
    ".\n",
    "def height(self):\n",
    "        \"\"\"\n",
    "        Return the height of the tree.\n",
    "\n",
    "            >>> t = Tree.fromstring(\"(S (NP (D the) (N dog)) (VP (V chased) (NP (D the) (N cat))))\")\n",
    "            >>> t.height()\n",
    "            5\n",
    "            >>> print(t[0,0])\n",
    "            (D the)\n",
    "            >>> t[0,0].height()\n",
    "            2\n",
    "\n",
    "        :return: The height of this tree.  The height of a tree\n",
    "            containing no children is 1; the height of a tree\n",
    "            containing only leaves is 2; and the height of any other\n",
    "            tree is one plus the maximum of its children's\n",
    "            heights.\n",
    "        :rtype: int\n",
    "        \"\"\"\n",
    "        .\n",
    "        .\n",
    "        .\n",
    "```\n",
    "\n",
    "However, the task of exercise 1 states, that the recursive function should \"return the depth of the tree, such that a tree with a single node would have depth zero. (Hint: the depth of a subtree is the maximum depth of its children, plus one.)\". I decided to implement my version strictly to this task definition."
   ]
  },
  {
   "cell_type": "markdown",
   "metadata": {},
   "source": [
    "### Exercise 2\n",
    "\n",
    "Write a recursive function `bracketing(tree)` that produces a nested bracketing for a `tree`, leaving out the leaf nodes, and displaying the non-terminal labels after their subtrees. Consecutive categories should be separated by space. Test your function with the tree: "
   ]
  },
  {
   "cell_type": "code",
   "execution_count": 8,
   "metadata": {
    "scrolled": true
   },
   "outputs": [
    {
     "data": {
      "image/svg+xml": [
       "<svg baseProfile=\"full\" height=\"312px\" preserveAspectRatio=\"xMidYMid meet\" style=\"font-family: times, serif; font-weight:normal; font-style: normal; font-size: 16px;\" version=\"1.1\" viewBox=\"0,0,856.0,312.0\" width=\"856px\" xmlns=\"http://www.w3.org/2000/svg\" xmlns:ev=\"http://www.w3.org/2001/xml-events\" xmlns:xlink=\"http://www.w3.org/1999/xlink\"><defs /><svg width=\"100%\" x=\"0\" y=\"0em\"><defs /><text text-anchor=\"middle\" x=\"50%\" y=\"1em\">S</text></svg><svg width=\"35.514%\" x=\"0%\" y=\"3em\"><defs /><svg width=\"100%\" x=\"0\" y=\"0em\"><defs /><text text-anchor=\"middle\" x=\"50%\" y=\"1em\">NP-SBJ</text></svg><svg width=\"42.1053%\" x=\"0%\" y=\"3em\"><defs /><svg width=\"100%\" x=\"0\" y=\"0em\"><defs /><text text-anchor=\"middle\" x=\"50%\" y=\"1em\">NP</text></svg><svg width=\"50%\" x=\"0%\" y=\"3em\"><defs /><svg width=\"100%\" x=\"0\" y=\"0em\"><defs /><text text-anchor=\"middle\" x=\"50%\" y=\"1em\">NNP</text></svg><svg width=\"100%\" x=\"0%\" y=\"3em\"><defs /><svg width=\"100%\" x=\"0\" y=\"0em\"><defs /><text text-anchor=\"middle\" x=\"50%\" y=\"1em\">Pierre</text></svg></svg><line stroke=\"black\" x1=\"50%\" x2=\"50%\" y1=\"1.2em\" y2=\"3em\" /></svg><line stroke=\"black\" x1=\"50%\" x2=\"25%\" y1=\"1.2em\" y2=\"3em\" /><svg width=\"50%\" x=\"50%\" y=\"3em\"><defs /><svg width=\"100%\" x=\"0\" y=\"0em\"><defs /><text text-anchor=\"middle\" x=\"50%\" y=\"1em\">NNP</text></svg><svg width=\"100%\" x=\"0%\" y=\"3em\"><defs /><svg width=\"100%\" x=\"0\" y=\"0em\"><defs /><text text-anchor=\"middle\" x=\"50%\" y=\"1em\">Vinken</text></svg></svg><line stroke=\"black\" x1=\"50%\" x2=\"50%\" y1=\"1.2em\" y2=\"3em\" /></svg><line stroke=\"black\" x1=\"50%\" x2=\"75%\" y1=\"1.2em\" y2=\"3em\" /></svg><line stroke=\"black\" x1=\"50%\" x2=\"21.0526%\" y1=\"1.2em\" y2=\"3em\" /><svg width=\"7.89474%\" x=\"42.1053%\" y=\"3em\"><defs /><svg width=\"100%\" x=\"0\" y=\"0em\"><defs /><text text-anchor=\"middle\" x=\"50%\" y=\"1em\">,</text></svg><svg width=\"100%\" x=\"0%\" y=\"3em\"><defs /><svg width=\"100%\" x=\"0\" y=\"0em\"><defs /><text text-anchor=\"middle\" x=\"50%\" y=\"1em\">,</text></svg></svg><line stroke=\"black\" x1=\"50%\" x2=\"50%\" y1=\"1.2em\" y2=\"3em\" /></svg><line stroke=\"black\" x1=\"50%\" x2=\"46.0526%\" y1=\"1.2em\" y2=\"3em\" /><svg width=\"42.1053%\" x=\"50%\" y=\"3em\"><defs /><svg width=\"100%\" x=\"0\" y=\"0em\"><defs /><text text-anchor=\"middle\" x=\"50%\" y=\"1em\">ADJP</text></svg><svg width=\"68.75%\" x=\"0%\" y=\"3em\"><defs /><svg width=\"100%\" x=\"0\" y=\"0em\"><defs /><text text-anchor=\"middle\" x=\"50%\" y=\"1em\">NP</text></svg><svg width=\"36.3636%\" x=\"0%\" y=\"3em\"><defs /><svg width=\"100%\" x=\"0\" y=\"0em\"><defs /><text text-anchor=\"middle\" x=\"50%\" y=\"1em\">CD</text></svg><svg width=\"100%\" x=\"0%\" y=\"3em\"><defs /><svg width=\"100%\" x=\"0\" y=\"0em\"><defs /><text text-anchor=\"middle\" x=\"50%\" y=\"1em\">61</text></svg></svg><line stroke=\"black\" x1=\"50%\" x2=\"50%\" y1=\"1.2em\" y2=\"3em\" /></svg><line stroke=\"black\" x1=\"50%\" x2=\"18.1818%\" y1=\"1.2em\" y2=\"3em\" /><svg width=\"63.6364%\" x=\"36.3636%\" y=\"3em\"><defs /><svg width=\"100%\" x=\"0\" y=\"0em\"><defs /><text text-anchor=\"middle\" x=\"50%\" y=\"1em\">NNS</text></svg><svg width=\"100%\" x=\"0%\" y=\"3em\"><defs /><svg width=\"100%\" x=\"0\" y=\"0em\"><defs /><text text-anchor=\"middle\" x=\"50%\" y=\"1em\">years</text></svg></svg><line stroke=\"black\" x1=\"50%\" x2=\"50%\" y1=\"1.2em\" y2=\"3em\" /></svg><line stroke=\"black\" x1=\"50%\" x2=\"68.1818%\" y1=\"1.2em\" y2=\"3em\" /></svg><line stroke=\"black\" x1=\"50%\" x2=\"34.375%\" y1=\"1.2em\" y2=\"3em\" /><svg width=\"31.25%\" x=\"68.75%\" y=\"3em\"><defs /><svg width=\"100%\" x=\"0\" y=\"0em\"><defs /><text text-anchor=\"middle\" x=\"50%\" y=\"1em\">JJ</text></svg><svg width=\"100%\" x=\"0%\" y=\"3em\"><defs /><svg width=\"100%\" x=\"0\" y=\"0em\"><defs /><text text-anchor=\"middle\" x=\"50%\" y=\"1em\">old</text></svg></svg><line stroke=\"black\" x1=\"50%\" x2=\"50%\" y1=\"1.2em\" y2=\"3em\" /></svg><line stroke=\"black\" x1=\"50%\" x2=\"84.375%\" y1=\"1.2em\" y2=\"3em\" /></svg><line stroke=\"black\" x1=\"50%\" x2=\"71.0526%\" y1=\"1.2em\" y2=\"3em\" /><svg width=\"7.89474%\" x=\"92.1053%\" y=\"3em\"><defs /><svg width=\"100%\" x=\"0\" y=\"0em\"><defs /><text text-anchor=\"middle\" x=\"50%\" y=\"1em\">,</text></svg><svg width=\"100%\" x=\"0%\" y=\"3em\"><defs /><svg width=\"100%\" x=\"0\" y=\"0em\"><defs /><text text-anchor=\"middle\" x=\"50%\" y=\"1em\">,</text></svg></svg><line stroke=\"black\" x1=\"50%\" x2=\"50%\" y1=\"1.2em\" y2=\"3em\" /></svg><line stroke=\"black\" x1=\"50%\" x2=\"96.0526%\" y1=\"1.2em\" y2=\"3em\" /></svg><line stroke=\"black\" x1=\"50%\" x2=\"17.757%\" y1=\"1.2em\" y2=\"3em\" /><svg width=\"61.6822%\" x=\"35.514%\" y=\"3em\"><defs /><svg width=\"100%\" x=\"0\" y=\"0em\"><defs /><text text-anchor=\"middle\" x=\"50%\" y=\"1em\">VP</text></svg><svg width=\"9.09091%\" x=\"0%\" y=\"3em\"><defs /><svg width=\"100%\" x=\"0\" y=\"0em\"><defs /><text text-anchor=\"middle\" x=\"50%\" y=\"1em\">MD</text></svg><svg width=\"100%\" x=\"0%\" y=\"3em\"><defs /><svg width=\"100%\" x=\"0\" y=\"0em\"><defs /><text text-anchor=\"middle\" x=\"50%\" y=\"1em\">will</text></svg></svg><line stroke=\"black\" x1=\"50%\" x2=\"50%\" y1=\"1.2em\" y2=\"3em\" /></svg><line stroke=\"black\" x1=\"50%\" x2=\"4.54545%\" y1=\"1.2em\" y2=\"3em\" /><svg width=\"90.9091%\" x=\"9.09091%\" y=\"3em\"><defs /><svg width=\"100%\" x=\"0\" y=\"0em\"><defs /><text text-anchor=\"middle\" x=\"50%\" y=\"1em\">VP</text></svg><svg width=\"10%\" x=\"0%\" y=\"3em\"><defs /><svg width=\"100%\" x=\"0\" y=\"0em\"><defs /><text text-anchor=\"middle\" x=\"50%\" y=\"1em\">VB</text></svg><svg width=\"100%\" x=\"0%\" y=\"3em\"><defs /><svg width=\"100%\" x=\"0\" y=\"0em\"><defs /><text text-anchor=\"middle\" x=\"50%\" y=\"1em\">join</text></svg></svg><line stroke=\"black\" x1=\"50%\" x2=\"50%\" y1=\"1.2em\" y2=\"3em\" /></svg><line stroke=\"black\" x1=\"50%\" x2=\"5%\" y1=\"1.2em\" y2=\"3em\" /><svg width=\"20%\" x=\"10%\" y=\"3em\"><defs /><svg width=\"100%\" x=\"0\" y=\"0em\"><defs /><text text-anchor=\"middle\" x=\"50%\" y=\"1em\">NP</text></svg><svg width=\"41.6667%\" x=\"0%\" y=\"3em\"><defs /><svg width=\"100%\" x=\"0\" y=\"0em\"><defs /><text text-anchor=\"middle\" x=\"50%\" y=\"1em\">DT</text></svg><svg width=\"100%\" x=\"0%\" y=\"3em\"><defs /><svg width=\"100%\" x=\"0\" y=\"0em\"><defs /><text text-anchor=\"middle\" x=\"50%\" y=\"1em\">the</text></svg></svg><line stroke=\"black\" x1=\"50%\" x2=\"50%\" y1=\"1.2em\" y2=\"3em\" /></svg><line stroke=\"black\" x1=\"50%\" x2=\"20.8333%\" y1=\"1.2em\" y2=\"3em\" /><svg width=\"58.3333%\" x=\"41.6667%\" y=\"3em\"><defs /><svg width=\"100%\" x=\"0\" y=\"0em\"><defs /><text text-anchor=\"middle\" x=\"50%\" y=\"1em\">NN</text></svg><svg width=\"100%\" x=\"0%\" y=\"3em\"><defs /><svg width=\"100%\" x=\"0\" y=\"0em\"><defs /><text text-anchor=\"middle\" x=\"50%\" y=\"1em\">board</text></svg></svg><line stroke=\"black\" x1=\"50%\" x2=\"50%\" y1=\"1.2em\" y2=\"3em\" /></svg><line stroke=\"black\" x1=\"50%\" x2=\"70.8333%\" y1=\"1.2em\" y2=\"3em\" /></svg><line stroke=\"black\" x1=\"50%\" x2=\"20%\" y1=\"1.2em\" y2=\"3em\" /><svg width=\"53.3333%\" x=\"30%\" y=\"3em\"><defs /><svg width=\"100%\" x=\"0\" y=\"0em\"><defs /><text text-anchor=\"middle\" x=\"50%\" y=\"1em\">PP-CLR</text></svg><svg width=\"12.5%\" x=\"0%\" y=\"3em\"><defs /><svg width=\"100%\" x=\"0\" y=\"0em\"><defs /><text text-anchor=\"middle\" x=\"50%\" y=\"1em\">IN</text></svg><svg width=\"100%\" x=\"0%\" y=\"3em\"><defs /><svg width=\"100%\" x=\"0\" y=\"0em\"><defs /><text text-anchor=\"middle\" x=\"50%\" y=\"1em\">as</text></svg></svg><line stroke=\"black\" x1=\"50%\" x2=\"50%\" y1=\"1.2em\" y2=\"3em\" /></svg><line stroke=\"black\" x1=\"50%\" x2=\"6.25%\" y1=\"1.2em\" y2=\"3em\" /><svg width=\"87.5%\" x=\"12.5%\" y=\"3em\"><defs /><svg width=\"100%\" x=\"0\" y=\"0em\"><defs /><text text-anchor=\"middle\" x=\"50%\" y=\"1em\">NP</text></svg><svg width=\"14.2857%\" x=\"0%\" y=\"3em\"><defs /><svg width=\"100%\" x=\"0\" y=\"0em\"><defs /><text text-anchor=\"middle\" x=\"50%\" y=\"1em\">DT</text></svg><svg width=\"100%\" x=\"0%\" y=\"3em\"><defs /><svg width=\"100%\" x=\"0\" y=\"0em\"><defs /><text text-anchor=\"middle\" x=\"50%\" y=\"1em\">a</text></svg></svg><line stroke=\"black\" x1=\"50%\" x2=\"50%\" y1=\"1.2em\" y2=\"3em\" /></svg><line stroke=\"black\" x1=\"50%\" x2=\"7.14286%\" y1=\"1.2em\" y2=\"3em\" /><svg width=\"50%\" x=\"14.2857%\" y=\"3em\"><defs /><svg width=\"100%\" x=\"0\" y=\"0em\"><defs /><text text-anchor=\"middle\" x=\"50%\" y=\"1em\">JJ</text></svg><svg width=\"100%\" x=\"0%\" y=\"3em\"><defs /><svg width=\"100%\" x=\"0\" y=\"0em\"><defs /><text text-anchor=\"middle\" x=\"50%\" y=\"1em\">nonexecutive</text></svg></svg><line stroke=\"black\" x1=\"50%\" x2=\"50%\" y1=\"1.2em\" y2=\"3em\" /></svg><line stroke=\"black\" x1=\"50%\" x2=\"39.2857%\" y1=\"1.2em\" y2=\"3em\" /><svg width=\"35.7143%\" x=\"64.2857%\" y=\"3em\"><defs /><svg width=\"100%\" x=\"0\" y=\"0em\"><defs /><text text-anchor=\"middle\" x=\"50%\" y=\"1em\">NN</text></svg><svg width=\"100%\" x=\"0%\" y=\"3em\"><defs /><svg width=\"100%\" x=\"0\" y=\"0em\"><defs /><text text-anchor=\"middle\" x=\"50%\" y=\"1em\">director</text></svg></svg><line stroke=\"black\" x1=\"50%\" x2=\"50%\" y1=\"1.2em\" y2=\"3em\" /></svg><line stroke=\"black\" x1=\"50%\" x2=\"82.1429%\" y1=\"1.2em\" y2=\"3em\" /></svg><line stroke=\"black\" x1=\"50%\" x2=\"56.25%\" y1=\"1.2em\" y2=\"3em\" /></svg><line stroke=\"black\" x1=\"50%\" x2=\"56.6667%\" y1=\"1.2em\" y2=\"3em\" /><svg width=\"16.6667%\" x=\"83.3333%\" y=\"3em\"><defs /><svg width=\"100%\" x=\"0\" y=\"0em\"><defs /><text text-anchor=\"middle\" x=\"50%\" y=\"1em\">NP-TMP</text></svg><svg width=\"60%\" x=\"0%\" y=\"3em\"><defs /><svg width=\"100%\" x=\"0\" y=\"0em\"><defs /><text text-anchor=\"middle\" x=\"50%\" y=\"1em\">NNP</text></svg><svg width=\"100%\" x=\"0%\" y=\"3em\"><defs /><svg width=\"100%\" x=\"0\" y=\"0em\"><defs /><text text-anchor=\"middle\" x=\"50%\" y=\"1em\">Nov.</text></svg></svg><line stroke=\"black\" x1=\"50%\" x2=\"50%\" y1=\"1.2em\" y2=\"3em\" /></svg><line stroke=\"black\" x1=\"50%\" x2=\"30%\" y1=\"1.2em\" y2=\"3em\" /><svg width=\"40%\" x=\"60%\" y=\"3em\"><defs /><svg width=\"100%\" x=\"0\" y=\"0em\"><defs /><text text-anchor=\"middle\" x=\"50%\" y=\"1em\">CD</text></svg><svg width=\"100%\" x=\"0%\" y=\"3em\"><defs /><svg width=\"100%\" x=\"0\" y=\"0em\"><defs /><text text-anchor=\"middle\" x=\"50%\" y=\"1em\">29</text></svg></svg><line stroke=\"black\" x1=\"50%\" x2=\"50%\" y1=\"1.2em\" y2=\"3em\" /></svg><line stroke=\"black\" x1=\"50%\" x2=\"80%\" y1=\"1.2em\" y2=\"3em\" /></svg><line stroke=\"black\" x1=\"50%\" x2=\"91.6667%\" y1=\"1.2em\" y2=\"3em\" /></svg><line stroke=\"black\" x1=\"50%\" x2=\"54.5455%\" y1=\"1.2em\" y2=\"3em\" /></svg><line stroke=\"black\" x1=\"50%\" x2=\"66.3551%\" y1=\"1.2em\" y2=\"3em\" /><svg width=\"2.80374%\" x=\"97.1963%\" y=\"3em\"><defs /><svg width=\"100%\" x=\"0\" y=\"0em\"><defs /><text text-anchor=\"middle\" x=\"50%\" y=\"1em\">.</text></svg><svg width=\"100%\" x=\"0%\" y=\"3em\"><defs /><svg width=\"100%\" x=\"0\" y=\"0em\"><defs /><text text-anchor=\"middle\" x=\"50%\" y=\"1em\">.</text></svg></svg><line stroke=\"black\" x1=\"50%\" x2=\"50%\" y1=\"1.2em\" y2=\"3em\" /></svg><line stroke=\"black\" x1=\"50%\" x2=\"98.5981%\" y1=\"1.2em\" y2=\"3em\" /></svg>"
      ],
      "text/plain": [
       "TreeLayout(Tree('S', [Tree('NP-SBJ', [Tree('NP', [Tree('NNP', ['Pierre']), Tree('NNP', ['Vinken'])]), Tree(',', [',']), Tree('ADJP', [Tree('NP', [Tree('CD', ['61']), Tree('NNS', ['years'])]), Tree('JJ', ['old'])]), Tree(',', [','])]), Tree('VP', [Tree('MD', ['will']), Tree('VP', [Tree('VB', ['join']), Tree('NP', [Tree('DT', ['the']), Tree('NN', ['board'])]), Tree('PP-CLR', [Tree('IN', ['as']), Tree('NP', [Tree('DT', ['a']), Tree('JJ', ['nonexecutive']), Tree('NN', ['director'])])]), Tree('NP-TMP', [Tree('NNP', ['Nov.']), Tree('CD', ['29'])])])]), Tree('.', ['.'])]))"
      ]
     },
     "execution_count": 8,
     "metadata": {},
     "output_type": "execute_result"
    }
   ],
   "source": [
    "from nltk.corpus import treebank\n",
    "tree = treebank.parsed_sents('wsj_0001.mrg')[0]\n",
    "svgling.draw_tree(tree)"
   ]
  },
  {
   "cell_type": "code",
   "execution_count": 9,
   "metadata": {},
   "outputs": [],
   "source": [
    "def bracketing(t):\n",
    "    try:\n",
    "        t.label()\n",
    "    except AttributeError:\n",
    "        print(\"\", end=\"\", sep=\"\")\n",
    "    else:\n",
    "        if t.height() > 2:\n",
    "            print(\"[\", end=\"\")\n",
    "        for child in t:\n",
    "            bracketing(child)\n",
    "        if t.height() > 2:\n",
    "            print(\"]\", end=\"\")\n",
    "        \n",
    "        print(t.label(), end=\" \")"
   ]
  },
  {
   "cell_type": "code",
   "execution_count": 10,
   "metadata": {},
   "outputs": [
    {
     "name": "stdout",
     "output_type": "stream",
     "text": [
      "[[[NNP NNP ]NP , [[CD NNS ]NP JJ ]ADJP , ]NP-SBJ [MD [VB [DT NN ]NP [IN [DT JJ NN ]NP ]PP-CLR [NNP CD ]NP-TMP ]VP ]VP . ]S "
     ]
    }
   ],
   "source": [
    "bracketing(tree)"
   ]
  },
  {
   "cell_type": "markdown",
   "metadata": {},
   "source": [
    "    [[[NNP NNP]NP , [[CD NNS]NP JJ]ADJP ,]NP-SBJ [MD [VB [DT NN]NP \n",
    "    [IN [DT JJ NN]NP]PP-CLR [NNP CD]NP-TMP]VP]VP .]S"
   ]
  },
  {
   "cell_type": "markdown",
   "metadata": {},
   "source": [
    "### Exercise 3\n",
    "\n",
    "Modify the functions `init_wfst()` and `complete_wfst()` so that the contents of each cell in the WFST is a set of non-terminal symbols rather than a single non-terminal. Test your function with the `groucho_grammar` and the sentence \"I shot an elephant in my pajamas\". "
   ]
  },
  {
   "cell_type": "code",
   "execution_count": 11,
   "metadata": {},
   "outputs": [
    {
     "name": "stdout",
     "output_type": "stream",
     "text": [
      "\n",
      "WFST 1        2        3        4        5        6        7       \n",
      "0    {NP}     .        .        .        .        .        .        \n",
      "1    .        {V}      .        .        .        .        .        \n",
      "2    .        .        {Det}    .        .        .        .        \n",
      "3    .        .        .        {N}      .        .        .        \n",
      "4    .        .        .        .        {P}      .        .        \n",
      "5    .        .        .        .        .        {Det}    .        \n",
      "6    .        .        .        .        .        .        {N}      \n",
      "[2] {Det} [3] {N} [4] ==> [2]  NP [4]\n",
      "[5] {Det} [6] {N} [7] ==> [5]  NP [7]\n",
      "[1] {V} [2] {NP} [4] ==> [1]  VP [4]\n",
      "[4] {P} [5] {NP} [7] ==> [4]  PP [7]\n",
      "[0] {NP} [1] {VP} [4] ==> [0]   S [4]\n",
      "[1] {VP} [4] {PP} [7] ==> [1]  VP [7]\n",
      "[0] {NP} [1] {VP} [7] ==> [0]   S [7]\n",
      "\n",
      "WFST 1        2        3        4        5        6        7       \n",
      "0    {NP}     .        .        {S}      .        .        {S}      \n",
      "1    .        {V}      .        {VP}     .        .        {VP}     \n",
      "2    .        .        {Det}    {NP}     .        .        .        \n",
      "3    .        .        .        {N}      .        .        .        \n",
      "4    .        .        .        .        {P}      .        {PP}     \n",
      "5    .        .        .        .        .        {Det}    {NP}     \n",
      "6    .        .        .        .        .        .        {N}      \n"
     ]
    }
   ],
   "source": [
    "groucho_grammar = nltk.CFG.fromstring(\"\"\"\n",
    "S -> NP VP\n",
    "PP -> P NP\n",
    "NP -> Det N | Det N PP | 'I'\n",
    "VP -> V NP | VP PP\n",
    "Det -> 'an' | 'my'\n",
    "N -> 'elephant' | 'pajamas'\n",
    "V -> 'shot'\n",
    "P -> 'in'\n",
    "\"\"\")\n",
    "sent = ['I', 'shot', 'an', 'elephant', 'in', 'my', 'pajamas']\n",
    "\n",
    "def init_wfst(tokens, grammar):\n",
    "    numtokens = len(tokens)\n",
    "    # Use empty set instead of None value\n",
    "    wfst = [[set() for i in range(numtokens+1)] for j in range(numtokens+1)]\n",
    "    for i in range(numtokens):\n",
    "        productions = grammar.productions(rhs=tokens[i])\n",
    "        for production in productions:\n",
    "            # query multiple productions\n",
    "            #wfst[i][i+1] = productions[0].lhs()\n",
    "            wfst[i][i+1].add(production.lhs()) # add to set\n",
    "    return wfst\n",
    "\n",
    "def complete_wfst(wfst, tokens, grammar, trace=False):\n",
    "    #index = dict((p.rhs(), p.lhs()) for p in grammar.productions())\n",
    "    #index = {p.rhs(): set([p.lhs()]) for p in grammar.productions()} #Does not work because set is not hashable\n",
    "    \n",
    "    index = defaultdict(set)\n",
    "    for prod in grammar.productions():\n",
    "        index[prod.rhs()].add(prod.lhs())\n",
    "        \n",
    "    numtokens = len(tokens)\n",
    "    for span in range(2, numtokens+1):\n",
    "        for start in range(numtokens+1-span):\n",
    "            end = start + span\n",
    "            for mid in range(start+1, end):\n",
    "                nt1, nt2 = wfst[start][mid], wfst[mid][end]\n",
    "                \n",
    "                for key in itertools.product(nt1, nt2):\n",
    "                    if key in index:\n",
    "                        for combination in index[key]:\n",
    "                            wfst[start][end].add(combination)\n",
    "                    if trace:\n",
    "                        for lhs in index[key]:\n",
    "                            print(\"[%s] %3s [%s] %3s [%s] ==> [%s] %3s [%s]\" % \\\n",
    "                            (start, nt1, mid, nt2, end, start, lhs, end))\n",
    "                    \n",
    "    return wfst\n",
    "\n",
    "def display(wfst):\n",
    "    print('\\nWFST ' + ' '.join((\"%-8d\" % i) for i in range(1, len(wfst))))\n",
    "    for i in range(len(wfst)-1):\n",
    "        print(\"%d   \" % i, end=\" \")\n",
    "        for j in range(1, len(wfst)):\n",
    "            print(\"%-8s\" % (wfst[i][j] or '.'), end=\" \")\n",
    "        print()\n",
    "\n",
    "wfst0 = init_wfst(sent, groucho_grammar)\n",
    "display(wfst0)\n",
    "wfst = complete_wfst(wfst0, sent, groucho_grammar, True)\n",
    "display(wfst)"
   ]
  },
  {
   "cell_type": "markdown",
   "metadata": {},
   "source": [
    "Change the line:\n",
    "\n",
    "    NP -> Det N | Det N PP | 'I' \n",
    "\n",
    "in `groucho_grammar` to:\n",
    "\n",
    "    NP -> Det N | NP PP | 'I' \n",
    "\n",
    "to verify in the trace of `complete_wfst()` that there are now two lines for `cell(1,7)`:\n",
    "\n",
    "    [1]   V [2]  NP [7] ==> [1]  VP [7]\n",
    "    [1]  VP [4]  PP [7] ==> [1]  VP [7]"
   ]
  },
  {
   "cell_type": "code",
   "execution_count": 12,
   "metadata": {},
   "outputs": [
    {
     "name": "stdout",
     "output_type": "stream",
     "text": [
      "\n",
      "WFST 1        2        3        4        5        6        7       \n",
      "0    {NP}     .        .        .        .        .        .        \n",
      "1    .        {V}      .        .        .        .        .        \n",
      "2    .        .        {Det}    .        .        .        .        \n",
      "3    .        .        .        {N}      .        .        .        \n",
      "4    .        .        .        .        {P}      .        .        \n",
      "5    .        .        .        .        .        {Det}    .        \n",
      "6    .        .        .        .        .        .        {N}      \n",
      "[2] {Det} [3] {N} [4] ==> [2]  NP [4]\n",
      "[5] {Det} [6] {N} [7] ==> [5]  NP [7]\n",
      "[1] {V} [2] {NP} [4] ==> [1]  VP [4]\n",
      "[4] {P} [5] {NP} [7] ==> [4]  PP [7]\n",
      "[0] {NP} [1] {VP} [4] ==> [0]   S [4]\n",
      "[2] {NP} [4] {PP} [7] ==> [2]  NP [7]\n",
      "[1] {V} [2] {NP} [7] ==> [1]  VP [7]\n",
      "[1] {VP} [4] {PP} [7] ==> [1]  VP [7]\n",
      "[0] {NP} [1] {VP} [7] ==> [0]   S [7]\n",
      "\n",
      "WFST 1        2        3        4        5        6        7       \n",
      "0    {NP}     .        .        {S}      .        .        {S}      \n",
      "1    .        {V}      .        {VP}     .        .        {VP}     \n",
      "2    .        .        {Det}    {NP}     .        .        {NP}     \n",
      "3    .        .        .        {N}      .        .        .        \n",
      "4    .        .        .        .        {P}      .        {PP}     \n",
      "5    .        .        .        .        .        {Det}    {NP}     \n",
      "6    .        .        .        .        .        .        {N}      \n"
     ]
    }
   ],
   "source": [
    "groucho_grammar = nltk.CFG.fromstring(\"\"\"\n",
    "S -> NP VP\n",
    "PP -> P NP\n",
    "NP -> Det N | NP PP | 'I'\n",
    "VP -> V NP | VP PP\n",
    "Det -> 'an' | 'my'\n",
    "N -> 'elephant' | 'pajamas'\n",
    "V -> 'shot'\n",
    "P -> 'in'\n",
    "\"\"\")\n",
    "wfst0 = init_wfst(sent, groucho_grammar)\n",
    "display(wfst0)\n",
    "wfst = complete_wfst(wfst0, sent, groucho_grammar, True)\n",
    "display(wfst)"
   ]
  },
  {
   "cell_type": "markdown",
   "metadata": {},
   "source": [
    "Change the line:\n",
    "\n",
    "    VP -> V NP | VP PP\n",
    "\n",
    "in `groucho_grammar` to: \n",
    "\n",
    "    VP -> V NP\n",
    "    VPC -> VP PP \n",
    "\n",
    "and check that `cell(1,7)` now contains `{VPC, VP}`."
   ]
  },
  {
   "cell_type": "code",
   "execution_count": 13,
   "metadata": {},
   "outputs": [
    {
     "name": "stdout",
     "output_type": "stream",
     "text": [
      "\n",
      "WFST 1        2        3        4        5        6        7       \n",
      "0    {NP}     .        .        .        .        .        .        \n",
      "1    .        {V}      .        .        .        .        .        \n",
      "2    .        .        {Det}    .        .        .        .        \n",
      "3    .        .        .        {N}      .        .        .        \n",
      "4    .        .        .        .        {P}      .        .        \n",
      "5    .        .        .        .        .        {Det}    .        \n",
      "6    .        .        .        .        .        .        {N}      \n",
      "[2] {Det} [3] {N} [4] ==> [2]  NP [4]\n",
      "[5] {Det} [6] {N} [7] ==> [5]  NP [7]\n",
      "[1] {V} [2] {NP} [4] ==> [1]  VP [4]\n",
      "[4] {P} [5] {NP} [7] ==> [4]  PP [7]\n",
      "[0] {NP} [1] {VP} [4] ==> [0]   S [4]\n",
      "[2] {NP} [4] {PP} [7] ==> [2]  NP [7]\n",
      "[1] {V} [2] {NP} [7] ==> [1]  VP [7]\n",
      "[1] {VP} [4] {PP} [7] ==> [1] VPC [7]\n",
      "[0] {NP} [1] {VP, VPC} [7] ==> [0]   S [7]\n",
      "\n",
      "WFST 1        2        3        4        5        6        7       \n",
      "0    {NP}     .        .        {S}      .        .        {S}      \n",
      "1    .        {V}      .        {VP}     .        .        {VP, VPC} \n",
      "2    .        .        {Det}    {NP}     .        .        {NP}     \n",
      "3    .        .        .        {N}      .        .        .        \n",
      "4    .        .        .        .        {P}      .        {PP}     \n",
      "5    .        .        .        .        .        {Det}    {NP}     \n",
      "6    .        .        .        .        .        .        {N}      \n"
     ]
    }
   ],
   "source": [
    "groucho_grammar = nltk.CFG.fromstring(\"\"\"\n",
    "S -> NP VP\n",
    "PP -> P NP\n",
    "NP -> Det N | NP PP | 'I'\n",
    "VP -> V NP \n",
    "VPC -> VP PP\n",
    "Det -> 'an' | 'my'\n",
    "N -> 'elephant' | 'pajamas'\n",
    "V -> 'shot'\n",
    "P -> 'in'\n",
    "\"\"\")\n",
    "wfst0 = init_wfst(sent, groucho_grammar)\n",
    "display(wfst0)\n",
    "wfst = complete_wfst(wfst0, sent, groucho_grammar, True)\n",
    "display(wfst)"
   ]
  },
  {
   "cell_type": "markdown",
   "metadata": {},
   "source": [
    "Finally, change the line:\n",
    "\n",
    "    S -> NP VP\n",
    "\n",
    "in `groucho_grammar` to:\n",
    "\n",
    "    S -> NP VP | NP VPC\n",
    "\n",
    "and check that now there are two lines in the trace of `complete_wfst()` for the `cell(0,7)`:\n",
    "\n",
    "    [0]  NP [1] VPC [7] ==> [0]   S [7]\n",
    "    [0]  NP [1]  VP [7] ==> [0]   S [7]"
   ]
  },
  {
   "cell_type": "code",
   "execution_count": 14,
   "metadata": {},
   "outputs": [
    {
     "name": "stdout",
     "output_type": "stream",
     "text": [
      "\n",
      "WFST 1        2        3        4        5        6        7       \n",
      "0    {NP}     .        .        .        .        .        .        \n",
      "1    .        {V}      .        .        .        .        .        \n",
      "2    .        .        {Det}    .        .        .        .        \n",
      "3    .        .        .        {N}      .        .        .        \n",
      "4    .        .        .        .        {P}      .        .        \n",
      "5    .        .        .        .        .        {Det}    .        \n",
      "6    .        .        .        .        .        .        {N}      \n",
      "[2] {Det} [3] {N} [4] ==> [2]  NP [4]\n",
      "[5] {Det} [6] {N} [7] ==> [5]  NP [7]\n",
      "[1] {V} [2] {NP} [4] ==> [1]  VP [4]\n",
      "[4] {P} [5] {NP} [7] ==> [4]  PP [7]\n",
      "[0] {NP} [1] {VP} [4] ==> [0]   S [4]\n",
      "[2] {NP} [4] {PP} [7] ==> [2]  NP [7]\n",
      "[1] {V} [2] {NP} [7] ==> [1]  VP [7]\n",
      "[1] {VP} [4] {PP} [7] ==> [1] VPC [7]\n",
      "[0] {NP} [1] {VP, VPC} [7] ==> [0]   S [7]\n",
      "[0] {NP} [1] {VP, VPC} [7] ==> [0]   S [7]\n",
      "\n",
      "WFST 1        2        3        4        5        6        7       \n",
      "0    {NP}     .        .        {S}      .        .        {S}      \n",
      "1    .        {V}      .        {VP}     .        .        {VP, VPC} \n",
      "2    .        .        {Det}    {NP}     .        .        {NP}     \n",
      "3    .        .        .        {N}      .        .        .        \n",
      "4    .        .        .        .        {P}      .        {PP}     \n",
      "5    .        .        .        .        .        {Det}    {NP}     \n",
      "6    .        .        .        .        .        .        {N}      \n"
     ]
    }
   ],
   "source": [
    "groucho_grammar = nltk.CFG.fromstring(\"\"\"\n",
    "S -> NP VP | NP VPC\n",
    "PP -> P NP\n",
    "NP -> Det N | NP PP | 'I'\n",
    "VP -> V NP \n",
    "VPC -> VP PP\n",
    "Det -> 'an' | 'my'\n",
    "N -> 'elephant' | 'pajamas'\n",
    "V -> 'shot'\n",
    "P -> 'in'\n",
    "\"\"\")\n",
    "wfst0 = init_wfst(sent, groucho_grammar)\n",
    "display(wfst0)\n",
    "wfst = complete_wfst(wfst0, sent, groucho_grammar, True)\n",
    "display(wfst)"
   ]
  },
  {
   "cell_type": "markdown",
   "metadata": {},
   "source": [
    "### Exercise 4\n",
    "\n",
    "Modify the function `complete_wfst()` from Exercise 3 so that when a non-terminal symbol is added to a cell in the WFST, the content of the variable `mid` is also added, i.e. we add a tuple `(symbol, mid)`. In `init_wfst()`, use `(symbol, i+1)` instead. Change also the function `display()` accordingly. Test your implementation with the final grammar from Exercise 3 and the sentence \"I shot an elephant in my pajamas\". "
   ]
  },
  {
   "cell_type": "code",
   "execution_count": 15,
   "metadata": {},
   "outputs": [
    {
     "name": "stdout",
     "output_type": "stream",
     "text": [
      "\n",
      "WFST 1            2            3            4            5            6            7           \n",
      "0    {(NP, 1)}    .            .            .            .            .            .            \n",
      "1    .            {(V, 2)}     .            .            .            .            .            \n",
      "2    .            .            {(Det, 3)}   .            .            .            .            \n",
      "3    .            .            .            {(N, 4)}     .            .            .            \n",
      "4    .            .            .            .            {(P, 5)}     .            .            \n",
      "5    .            .            .            .            .            {(Det, 6)}   .            \n",
      "6    .            .            .            .            .            .            {(N, 7)}     \n",
      "[2] {(Det, 3)} [3] {(N, 4)} [4] ==> [2]  NP [4]\n",
      "[5] {(Det, 6)} [6] {(N, 7)} [7] ==> [5]  NP [7]\n",
      "[1] {(V, 2)} [2] {(NP, 3)} [4] ==> [1]  VP [4]\n",
      "[4] {(P, 5)} [5] {(NP, 6)} [7] ==> [4]  PP [7]\n",
      "[0] {(NP, 1)} [1] {(VP, 2)} [4] ==> [0]   S [4]\n",
      "[2] {(NP, 3)} [4] {(PP, 5)} [7] ==> [2]  NP [7]\n",
      "[1] {(V, 2)} [2] {(NP, 4)} [7] ==> [1]  VP [7]\n",
      "[1] {(VP, 2)} [4] {(PP, 5)} [7] ==> [1] VPC [7]\n",
      "[0] {(NP, 1)} [1] {(VP, 2), (VPC, 4)} [7] ==> [0]   S [7]\n",
      "[0] {(NP, 1)} [1] {(VP, 2), (VPC, 4)} [7] ==> [0]   S [7]\n",
      "\n",
      "WFST 1            2            3            4            5            6            7           \n",
      "0    {(NP, 1)}    .            .            {(S, 1)}     .            .            {(S, 1)}     \n",
      "1    .            {(V, 2)}     .            {(VP, 2)}    .            .            {(VP, 2), (VPC, 4)} \n",
      "2    .            .            {(Det, 3)}   {(NP, 3)}    .            .            {(NP, 4)}    \n",
      "3    .            .            .            {(N, 4)}     .            .            .            \n",
      "4    .            .            .            .            {(P, 5)}     .            {(PP, 5)}    \n",
      "5    .            .            .            .            .            {(Det, 6)}   {(NP, 6)}    \n",
      "6    .            .            .            .            .            .            {(N, 7)}     \n"
     ]
    }
   ],
   "source": [
    "def init_wfst(tokens, grammar):\n",
    "    numtokens = len(tokens)\n",
    "    # Use empty set instead of None value\n",
    "    wfst = [[set() for i in range(numtokens+1)] for j in range(numtokens+1)]\n",
    "    for i in range(numtokens):\n",
    "        productions = grammar.productions(rhs=tokens[i])\n",
    "        for production in productions:\n",
    "            # query multiple productions and add i+1 as column number\n",
    "            wfst[i][i+1].add((production.lhs(), i+1)) # add to set\n",
    "    return wfst\n",
    "\n",
    "def complete_wfst(wfst, tokens, grammar, trace=False):\n",
    "    index = defaultdict(set)\n",
    "    for prod in grammar.productions():\n",
    "        index[prod.rhs()].add(prod.lhs())\n",
    "        \n",
    "    numtokens = len(tokens)\n",
    "    for span in range(2, numtokens+1):\n",
    "        for start in range(numtokens+1-span):\n",
    "            end = start + span\n",
    "            for mid in range(start+1, end):\n",
    "                nt1, nt2 = wfst[start][mid], wfst[mid][end]\n",
    "                \n",
    "                for key in itertools.product(nt1, nt2):\n",
    "                    # Update according to new scheme (symbol, mid)\n",
    "                    key = tuple((term[0] for term in key))\n",
    "                    if key in index:\n",
    "                        for combination in index[key]:\n",
    "                            wfst[start][end].add((combination, mid))\n",
    "                    if trace:\n",
    "                        for lhs in index[key]:\n",
    "                            print(\"[%s] %3s [%s] %3s [%s] ==> [%s] %3s [%s]\" % \\\n",
    "                            (start, nt1, mid, nt2, end, start, lhs, end))\n",
    "                    \n",
    "    return wfst\n",
    "\n",
    "def display(wfst):\n",
    "    print('\\nWFST ' + ' '.join((\"%-12d\" % i) for i in range(1, len(wfst))))\n",
    "    for i in range(len(wfst)-1):\n",
    "        print(\"%d   \" % i, end=\" \")\n",
    "        for j in range(1, len(wfst)):\n",
    "            print(\"%-12s\" % (wfst[i][j] or '.'), end=\" \")\n",
    "        print()\n",
    "\n",
    "wfst0 = init_wfst(sent, groucho_grammar)\n",
    "display(wfst0)\n",
    "wfst = complete_wfst(wfst0, sent, groucho_grammar, True)\n",
    "display(wfst)"
   ]
  },
  {
   "cell_type": "markdown",
   "metadata": {},
   "source": [
    "It should produce the following output:\n",
    "\n",
    "    WFST      1          2          3          4          5          6          7         \n",
    "    0         {(NP, 1)}  .          .          {(S, 1)}   .          .          {(S, 1)}   \n",
    "    1         .          {(V, 2)}   .          {(VP, 2)}  .          .          {(VP, 2), (VPC, 4)} \n",
    "    2         .          .          {(Det, 3)} {(NP, 3)}  .          .          {(NP, 4)}  \n",
    "    3         .          .          .          {(N, 4)}   .          .          .          \n",
    "    4         .          .          .          .          {(P, 5)}   .          {(PP, 5)}  \n",
    "    5         .          .          .          .          .          {(Det, 6)} {(NP, 6)}  \n",
    "    6         .          .          .          .          .          .          {(N, 7)}    "
   ]
  },
  {
   "cell_type": "code",
   "execution_count": 16,
   "metadata": {},
   "outputs": [
    {
     "data": {
      "text/plain": [
       "0"
      ]
     },
     "execution_count": 16,
     "metadata": {},
     "output_type": "execute_result"
    }
   ],
   "source": [
    "len(wfst[3][7])"
   ]
  },
  {
   "cell_type": "markdown",
   "metadata": {},
   "source": [
    "### Exercise 5\n",
    "\n",
    "Use the extended WFST from Exercise 4 to retrace the parse trees for our example sentence \"I shot an elephant in my pajamas''. Write a recursive function `retrace(WFST, tokens)` (the \n",
    "second parameter `tokens` contains the token list \\['I', 'shot', 'an', 'elephant', 'in', 'my', 'pajamas'\\] for our example sentence). Start with `cell(0,7)` (or `cell(0,len(tokens))` in general) and use the information in `mid` to follow the productions to `cell(0,mid)` and `cell(mid,7)`, and so on. If we reach a terminal symbol, i.e. a `cell(i,i+1)`, the corresponding token from `tokens` shall be displayed. "
   ]
  },
  {
   "cell_type": "code",
   "execution_count": 17,
   "metadata": {},
   "outputs": [
    {
     "name": "stdout",
     "output_type": "stream",
     "text": [
      "S   -> NP  -> I\n",
      "\tVP  -> V   -> shot\n",
      "\t\tNP  -> NP  -> Det -> an\n",
      "\t\t\tN   -> elephant\n",
      "\t\t\t\tPP  -> P   -> in\n",
      "\t\t\t\t\tNP  -> Det -> my\n",
      "\t\t\t\t\t\tN   -> pajamas\n",
      "\t\t\t\t\t\t\t\n",
      "VPC -> VP  -> V   -> shot\n",
      "\t\tNP  -> NP  -> Det -> an\n",
      "\t\t\tN   -> elephant\n",
      "\t\t\t\tPP  -> P   -> in\n",
      "\t\t\t\t\tNP  -> Det -> my\n",
      "\t\t\t\t\t\tN   -> pajamas\n",
      "\t\t\t\t\t\t\t\n"
     ]
    }
   ],
   "source": [
    "def retrace(WFST, tokens, start=0, end=7):\n",
    "    try:\n",
    "        cell = list(WFST[start][end])\n",
    "    except IndexError:\n",
    "        print(\"\")\n",
    "    else:\n",
    "        if len(cell) == 0:\n",
    "            retrace(WFST, tokens, start=start, end=end-1)\n",
    "        else:\n",
    "            if start + 1 == end:\n",
    "                for prod in cell:\n",
    "                    print(\"%-4s->\" % prod[0], end=\" \")\n",
    "                    print(tokens[start])\n",
    "                    print(end*\"\\t\", end=\"\")\n",
    "                    mid = prod[1]\n",
    "\n",
    "                retrace(WFST, tokens, start=mid, end=len(tokens))\n",
    "            else:\n",
    "                for prod in cell:\n",
    "                    print(\"%-4s->\" % prod[0], end=\" \")\n",
    "                    retrace(WFST, tokens, start=start, end=prod[1])\n",
    "    \n",
    "    \n",
    "retrace(wfst, sent)"
   ]
  },
  {
   "cell_type": "markdown",
   "metadata": {},
   "source": [
    "The function should produce the following output:\n",
    "\n",
    "    S    -> NP   -> I \n",
    "            VPC  -> VP   -> V    -> shot \n",
    "                            NP   -> Det  -> an \n",
    "                                    N    -> elephant \n",
    "                    PP   -> P    -> in \n",
    "                            NP   -> Det  -> my \n",
    "                                    N    -> pajamas \n",
    "            VP   -> V    -> shot \n",
    "                    NP   -> NP   -> Det  -> an \n",
    "                                    N    -> elephant \n",
    "                            PP   -> P    -> in \n",
    "                                    NP   -> Det  -> my \n",
    "                                            N    -> pajamas  "
   ]
  },
  {
   "cell_type": "markdown",
   "metadata": {},
   "source": [
    "### Exercise 6\n",
    "\n",
    "Process each tree of the Penn Treebank Corpus sample `nltk.corpus.treebank` and extract the productions with the help of `Tree.productions()`. Discard the productions that occur only once and those that are lexical (i.e. the right-hand side contains at least one terminal token). Productions with the same left-hand side can be collapsed using a dictionary with the left-hand sides as keys and sets of right-hand sides as values.\n",
    "\n",
    "Print the value for the left-hand side 'NP' using the format: \n",
    "\n",
    "    DT JJS NN NN | DT VBG NN NN | DT NNP CD NN | DT NN NNS ...\n"
   ]
  },
  {
   "cell_type": "code",
   "execution_count": 18,
   "metadata": {},
   "outputs": [],
   "source": [
    "def extract_grammar(sents):\n",
    "    prods = []\n",
    "    for sent in sents:\n",
    "        prods = prods + sent.productions()\n",
    "\n",
    "    freq = nltk.FreqDist(prods) # Distribution of productions key: rule, value: number of occurrences  \n",
    "    prods = [key for (key, value) in freq.items() if value > 1] # Discard the productions that occur only once\n",
    "    \n",
    "    return nltk.CFG(start = grammar.Nonterminal('S'), productions=prods)\n",
    "    \n",
    "gr = extract_grammar(treebank.parsed_sents())"
   ]
  },
  {
   "cell_type": "code",
   "execution_count": 19,
   "metadata": {},
   "outputs": [
    {
     "data": {
      "text/plain": [
       "nltk.grammar.Nonterminal"
      ]
     },
     "execution_count": 19,
     "metadata": {},
     "output_type": "execute_result"
    }
   ],
   "source": [
    "lhs_NP = [p.rhs() for p in gr.productions()]\n",
    "type(lhs_NP[0][0])"
   ]
  },
  {
   "cell_type": "code",
   "execution_count": 20,
   "metadata": {},
   "outputs": [
    {
     "name": "stdout",
     "output_type": "stream",
     "text": [
      "NNP NNP | CD NNS | DT NN | DT JJ NN | NN | NP , NP | NP PP | JJ NN | NNP NNP NNP NNP | DT JJ JJ NN | -NONE- | NNP NN NNS | NP PP PP-LOC | NN NNS | NP RRC | NNS | PRP | QP NNS | DT NN NN | DT NNS | RB JJ NNS | NP SBAR | NP PP SBAR | ADJP NNP NNP | NNP NNS | PRP$ NN NN NNS | CD | QP NN | NP NNP NNP NNP | NN POS | NNP | NP ADJP | DT JJ NNS | PRP$ NNS | DT NNP NNS | NNP NNP NNP | NNP POS | NP PP-DIR | NP CC NP | DT NNP NNP NNP | ADJP NNS | DT JJ CD | QP NNP NNS | JJ NNS | ADJP NN | NP , NP CC NP | NN NN | DT | NN NN NNS | NP PP-LOC | DT NAC-LOC NN NN | DT JJS | DT NN NNS | JJ VBN NNS | NP PP S-2 | NN S | NP PP PP | NP VP | NP PP , NP , | JJS NNS | DT JJ VBN NNS | DT JJR NN | DT JJ , JJ NNS | DT NAC NNP | DT CD | JJ NN NNS | DT VBN NN | NN CC NN NNS | DT NNS CC NNS | NNP CC NNP | NP NP-TMP | PRP$ NN NN | JJ JJ NNS | NNS SBAR | DT JJ JJ NN NN | DT CD JJ NNS | CD NN | NP NNS | DT NNS POS | NP , NP , | NP PP-TMP | JJ NNP | VBG NN NNS | VBG NNS | JJR NNS | NP PRN | JJ NNP NNS | NP NN | QP -NONE- | DT JJS NN | DT JJS NNS | DT JJ NN NN | PRP$ NN | DT JJ JJ JJ NN | DT CD NNS | DT JJ CD NN | NP , SBAR | NNP NNP CC NNP | DT ADJP NN | NP , NP , SBAR | NP CD NN NNS | NNP NNP POS | NP , CC NP | NP NP-ADV | $ CD -NONE- | NP PP PP PP | PRP$ NNP NNP NNP | NNP NNS NNS | DT NN S | DT NN POS | NNP CD | RB | JJ NN NN | NP NNP NN | PRP$ JJ NN | DT NNP NNP | DT NNP NN | PRP$ NN NN NN | CD JJ NN NNS | DT VBG NN | NP , CONJP NP | DT NNP NNP NNP NNP | NNP NNP NNP NNP NNP | NN CC NN | NP , NP , NP CC NP | NNP NN NN | JJR | NP JJ NN | DT NNP CC NNP NNP | NP , ADVP | VBN NN NNS | DT JJ NN JJ NN | NP | NP NP | JJ | NNP NN | NP , NP , CC NP | NNP NNP NNP POS | DT JJ , JJ NN | DT JJR NN NN | NP NN NN | PRP$ CD NN NNS | NP PP-LOC PP-TMP | DT JJ CD NNS | NP PP PP-DIR | NNS CC NNS | NP PP-LOC SBAR | DT QP -NONE- | PRP$ JJ NN NN | NP CC NP PP-1 | JJ JJ NN | NP '' SBAR | NP NN S | NP NN NNS | DT JJ NN POS | JJR NN NNS | NP PP VP | DT NNP | NNP NNP NNP NNP JJ NN | JJ NX | NP , NP , NP | NP , CC NP , | NNP NNP NN | DT UCP NN | NP ADVP | NP SBAR , PP | JJ NNS S | DT VBG NN NN | PRP$ CD NNS | DT QP NNS | DT JJ QP NNS | DT VBN CD NN | PRP$ NN NNS | PRP$ QP NNS | DT JJ QP -NONE- | DT NNP CD NN | NP JJ NNS | NNS , NNS CC NNS | NNP NNPS NNP NNP | NNP NNPS NNP | PRP$ NX | DT NNPS CC NNP NNP | PRP$ ADJP JJ NN | NP , NP-LOC | DT NNP POS | JJ JJ NN NN | DT JJS JJ NN | NNP NNP NNPS NNP | NP : NP | QP JJ NNS | NP JJ NN NN | DT CD NN | DT JJ DT | NP SBAR PP | NP : NP : NP : CC NP | NN NN NN | NNP NN NNP | JJ NN NN NN | NN VBG NN | DT NN NN NN | NP NNP NNP NNP NN | RB NN | NNP NNPS | NNP NX | CD JJ NNS | NNP , NNP , NNP , NNP CC NNP | DT JJ NN NN NN | DT JJ NNP NN NN | NP '' PP-LOC | DT VBG NNS | PRP$ JJS NNS | NP VBG NN | JJ NN CC NN NNS | DT `` NN '' NN | PRP$ NNS S | NNP JJ NNS | NNP NNP NNP NNP NNP NNP | NP , SBAR , | DT NN CC NN | JJR JJ NNS | CD NNP NNS | DT JJ NNS NN | DT ADJP NNS NN | DT JJ | PRP$ NNP NNP NN | PRP$ JJ NNS | DT NNP NNPS | NP VP PP | NNPS | NP PP , VP | VB NNS | NP , PP | JJ VBG NNS | NP PP-LOC NP-TMP | NP JJ JJ NN | JJ NNS NN | NN CC VBG NN | NP NNP | DT NNP NNP NN NN | NNP , NNP CC NNP | NP NNP NNPS NNP | JJ CC JJ NNS | NNP NNP NNS | QP | DT JJ NN S | NN CD | DT JJ NNP NNP | NNS POS | PRP$ ADJP NN NN | NP ADJP PP | DT NNPS | NP PP PP-TMP | DT JJS NN NN | JJ JJ NN NNS | DT ADJP NNS | QP NN NNS | NNP NNP NNP CC NNP | DT NNP NNP POS | JJ NNP NNP NNP | NNP JJ NN | DT `` JJ NN NN '' | JJ JJ JJ NNS | RBS | RB CD | NNP NNP , NNP NNP CC NNP | JJ CD | DT JJ NN NNS | DT NNP NNP NN | NP JJ JJ NNP NN | DT NX | DT NN SBAR | VBN NNS | NP , ADJP | DT NNP NNP NNP POS | NP : NP : | JJ , JJ NN | JJ NN POS | DT NN NNS POS | NNS NN | NP ADVP-TMP | NN SBAR | RBR | NP , VP | VBN NN | ADJP NNP NNS | ADJP NN NNS | ADJP JJ NNS | NP JJS NNS | JJS | NP : CC NP | `` NP-TTL '' PRN | NP PRN SBAR | NP , PP-LOC | DT `` NN | PRP$ NNS POS | NP , SBAR-LOC | NP NN NN NNS NN | NNS NNS | JJ NNS CC NNS | NP SBAR-LOC | DT NNP NNP NNP NN NN | NNP NNP NNP NNP POS | DT ADJP NN NN | NP PP NP-TMP | JJR NN | DT ADJP NNP NN | DT JJ NNP NNP NN | CD JJR NNS | CD NN NN NNS | ADJP NN NN | NP , PP , | NP NNP NNP | `` NP-TTL , '' NP | PRP$ NNP | NN NNP NNP | RB NNS | JJ NN CC NN | DT NNP NNP NNS | NP PP , PP | RB JJ DT NN | NP PRN PP | DT NNP NN POS | CD JJ NN | RB JJ | NNS S | PRP$ JJ JJ NNS | DT NNP NN NN | JJS JJ NNS | RB DT JJ NNS | DT NP | NP NNS NN | PRP$ JJ | DT `` NN '' | JJ NNP NNP | NP VP SBAR | DT `` JJ NN | PRP$ NN S | PRP$ JJ ADJP NN | PRP$ JJ NNP NN | JJ NNS POS | DT JJ NN CC NN NN | NAC POS | DT ADJP JJ NN | DT NNP NNP NNP NN | NNP CC NNP NNP | DT JJ CC JJ NNS | NP CONJP NP | NP , NP , NP , NP , NP CC NP | NNP NNP NNPS | DT VBG JJ NN | NP PP-CLR | NP NN SBAR | RB DT | JJ NN S | NN NNS CC NNS | DT JJ NN QP | JJ , JJ NN NNS | DT NN CC NNS | CD CC CD | DT NN NNP | DT NNP JJ NN | VBG NN | NP PP PP PP-TMP | PRP$ JJ NN NNS | NP JJ NN NNS | CD NN JJ NNS | NP PP-LOC , SBAR | PDT DT | NP , VP , | NP ADVP-LOC | RB DT NN | PRP$ NNS CC NNS | DT NAC-LOC NN | NP PP , SBAR | NP NX | DT `` JJ NN '' | DT NNP CC NNP NNS | NP PP S-1 | DT NNS S | NNP NNPS CC NNP NNP | CD NN NNS | ADJP NNP | ADJP JJ NN | NNPS POS | NP NNS S | DT JJ JJ NNS | JJR JJ NN | CD CD | NP PP ADVP | DT JJS JJ NNS | NP SBAR-PRP | VB | NNPS NNP | NNP NNP JJ NN | PRP$ NN NNS NN | CD NP NNS | NP , NP CC NP , | DT `` JJ '' NN | PRP$ JJ JJ NN | NP , SBAR-TMP | DT JJ NNP NNS | NP : NP . | DT `` NN S | DT NN CC NN NN | DT NAC NN | NP PP-TMP PP | DT NNS NN | CD JJ JJ NNS | NP ADJP NN | PRP$ NN POS | NP , '' NP | NN CC NNS | NP PP-LOC VP | PRP$ JJS NN | PRP$ NAC-LOC NN | VBN JJ NN | NNP NNP . | NNP . | JJ NNP NNP NN | DT JJ NNP NN | NN VBG | DT VBG NNP NN | NP NP-TMP PP | NP CD NN | RB JJR | NP : S | VBG | RB CD NNS | NP SBAR-TMP | NP '' PP | RB NN NNS | NP , NP-LOC , | PRP$ ADJP NN | PRP$ NNP NN NN | NNP NNPS POS | DT CD NN NN | DT NN NN CC NN NNS | DT NAC-TMP NN | CD VBN NNS | DT NN NNS NN | DT NNP CC NNP | DT NNP NNP NNP NNP NNP | DT JJ NNP | NP : NP : NP | DT ADJP NNP | DT JJR NNS | DT CD CC CD | QP -NONE- QP | NNP DT NNP | NP PP PRN | DT NNP CD NN NN NN | JJ , JJ NNS | JJ DT NN | NP CC ADVP NP | : NP PP , SBAR . | JJ NN NN NNS | JJ VBG | DT $ CD -NONE- | NP PP-LOC PP | NNP CC NNP POS | NP ADJP JJ NN | JJ NNS CC NN | NP PP ADVP-TMP | RB DT JJ NN | DT NN NN POS | NP , RB NP | NNP , NNP | PRP$ NNP NNS | NP ADVP PP | NN , NN CC NN | PRP$ NNP NN | DT JJ `` NN NN '' | DT JJ VBG | DT NNP NN NN NN | JJ NNS NNS | DT NN JJ NN | DT JJ VBG NN | DT VBG CD NNS | DT CD NN NNS | QP JJ NN | DT VBN NN NN | DT RBR JJ NN | DT VBG | DT RB JJ NN | NN NN CC NN | DT CD VBN NNS | NP ADJP NNS | CD NN NN | DT NNP CD NNS | DT NNP CD | NNP CD NNS | NNP NN NNP NNP | DT JJ JJ | JJR NN NN | NP NP-LOC . | PRP$ VBN NN | `` NP , '' NP | NP , ADVP-TMP NP | JJ NN NNP NNP | NP , PP , SBAR | PRP$ NNP CD NN | DT `` NN NN '' | DT NP CC NP | DT JJ NNS NNS | NP PP , NP | NN CC JJ NNS | `` NP , '' SBAR | DT JJ NN CC NN | DT NNS NNS | DT JJ NX | DT NNP CC NNP NN NNS | PDT DT NN | NP NNP NNP NN | NNP NNP JJ NNS | NP PP SBAR-TMP | DT JJ NN `` NN '' NN | DT ADJP NNP NNP NN | NP NN JJ | NN JJ NN | PRP$ NNP NNP NNS | QP VBN NNS | JJ UCP NNS | DT NN CC NN NNS | RB JJ NN | NNS CC NN | NP NP-LOC | DT CD JJ JJ NNS | NN JJ NNS | CD NN QP | NP NN CC NN NN NN | VBN NN NN | JJ CD NNS | NP JJS NN | NNP CD , CD | CD CD NN | NP PP . | NP , NP , NP , NP | NP VP . | NP : NP : NP : NP | NP : NP : NP : NP : NP | NP : NP : NP : NP : NP : NP | JJ NNP NN NNS | NP : VP . | `` JJ '' NNS | NP `` VP | DT VBN NNS | JJ CC DT NN | ADJP DT NN | DT NN QP -NONE- | DT ADJP JJ NN NN | NNP NNPS NNP POS | DT NN CD | NP ADJP PP SBAR | DT CD CD | IN CD NNS | NP , NP . | DT NNP NNP NNP NNP POS | DT JJ NNS POS | NN NNS NNS | RB CD NN | NNS CC NN NN | DT JJ NNS CC NNS | NNP , NNP CC NNP NNP | NNP NNP CC NNP NNP | VBG JJ NNS | JJR NN NN NN | PDT PRP$ NNS | DT VBN NN NNS | NP , ADVP-TMP | NP NNPS NNP NNP | DT ADJP QP -NONE- | NP PP ADJP , VP . | DT ADJP NN NNS | NP QP . | NP PP ADJP , PP PP . | DT VBN ADJP NN | VB NN | DT VBN CD CD | NNP NNP NNP . | JJ NN CC NN NN NNS | DT NNP NNP CC NNP NNP | NNP NNP NNPS NNP POS | JJ NNP NN | NP , NP , PP . | RB DT ADJP NN | NN NN NN NNS | NP VBN NN | NP-HLN : S . | NP : S . | JJ CD POS | NP QP NNS | NP NN NN NNS | NP=3 , ADVP-DIR=4 | NNP NNP NN NN | DT JJ VBN NN | NP QP -NONE- | DT JJ NN VBG NN | PRP$ NN CC NN NN | NP-TMP : NP | NP PP-DIR PP-DIR | NNP , NNP , | PRP$ UCP NNS | ADJP NNP NNP NNP | PRP$ NN VBG NN | "
     ]
    }
   ],
   "source": [
    "lhs_NP = {p.lhs: p.rhs() for p in gr.productions() if p.lhs() == grammar.Nonterminal('NP') and len([el for el in p.rhs() if type(el) == str]) == 0}\n",
    "\n",
    "for rule in lhs_NP.values():\n",
    "    for nonterminal in rule:\n",
    "        print(nonterminal, end=\" \")\n",
    "    print(\"| \", end=\"\")"
   ]
  },
  {
   "cell_type": "code",
   "execution_count": null,
   "metadata": {},
   "outputs": [],
   "source": []
  }
 ],
 "metadata": {
  "kernelspec": {
   "display_name": "Python 3 (ipykernel)",
   "language": "python",
   "name": "python3"
  },
  "language_info": {
   "codemirror_mode": {
    "name": "ipython",
    "version": 3
   },
   "file_extension": ".py",
   "mimetype": "text/x-python",
   "name": "python",
   "nbconvert_exporter": "python",
   "pygments_lexer": "ipython3",
   "version": "3.9.4"
  }
 },
 "nbformat": 4,
 "nbformat_minor": 4
}
