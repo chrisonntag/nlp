{
 "cells": [
  {
   "cell_type": "markdown",
   "metadata": {},
   "source": [
    "# Natural Language Processing\n",
    "\n",
    "## Exercise Sheet 1"
   ]
  },
  {
   "cell_type": "code",
   "execution_count": 1,
   "metadata": {},
   "outputs": [
    {
     "name": "stdout",
     "output_type": "stream",
     "text": [
      "*** Introductory Examples for the NLTK Book ***\n",
      "Loading text1, ..., text9 and sent1, ..., sent9\n",
      "Type the name of the text or sentence to view it.\n",
      "Type: 'texts()' or 'sents()' to list the materials.\n",
      "text1: Moby Dick by Herman Melville 1851\n",
      "text2: Sense and Sensibility by Jane Austen 1811\n",
      "text3: The Book of Genesis\n",
      "text4: Inaugural Address Corpus\n",
      "text5: Chat Corpus\n",
      "text6: Monty Python and the Holy Grail\n",
      "text7: Wall Street Journal\n",
      "text8: Personals Corpus\n",
      "text9: The Man Who Was Thursday by G . K . Chesterton 1908\n"
     ]
    }
   ],
   "source": [
    "#imports for all exercises\n",
    "import nltk\n",
    "import re\n",
    "import matplotlib.pyplot as plt\n",
    "import nltk.book as book"
   ]
  },
  {
   "cell_type": "markdown",
   "metadata": {},
   "source": [
    "### Exercise 1\n",
    "\n",
    "How many words are there in `text2` from `nltk.book`? How many distinct words are there? Calculate the lexical diversity.\n"
   ]
  },
  {
   "cell_type": "code",
   "execution_count": 2,
   "metadata": {},
   "outputs": [
    {
     "name": "stdout",
     "output_type": "stream",
     "text": [
      "Words in the text: 123473\n",
      "Distinct words in text: 6818\n",
      "Lexical Diversity: 0.05521854980441068\n"
     ]
    }
   ],
   "source": [
    "text = book.text2\n",
    "\n",
    "# Remove punctuation\n",
    "only_words_text = [item for item in text if item not in \"!?)(/&%$§!.,;:-_–`´=^°@+*#<>\\\"\\'\\\\\"]\n",
    "\n",
    "word_count = len(only_words_text)\n",
    "distinct_words = set(only_words_text)\n",
    "\n",
    "lexical_diversity = len(distinct_words) / word_count\n",
    "\n",
    "print(\"Words in the text:\", word_count)\n",
    "print(\"Distinct words in text:\", len(distinct_words))\n",
    "print(\"Lexical Diversity:\", lexical_diversity)"
   ]
  },
  {
   "cell_type": "markdown",
   "metadata": {},
   "source": [
    "### Exercise 2\n",
    "\n",
    "Produce a dispersion plot of the four main protagonists in Sense and Sensibility: Elinor, Marianne, Edward, and Willoughby. What can you observe about the different roles played by the males and females in this novel? Can you identify the couples?"
   ]
  },
  {
   "cell_type": "code",
   "execution_count": 23,
   "metadata": {},
   "outputs": [
    {
     "name": "stderr",
     "output_type": "stream",
     "text": [
      "/Users/christoph/Documents/Studium/Universität Wien/Informatik/WiSe21/NLP/env/lib/python3.9/site-packages/nltk/draw/__init__.py:15: UserWarning: nltk.draw package not loaded (please install Tkinter library).\n",
      "  warnings.warn(\"nltk.draw package not loaded (please install Tkinter library).\")\n"
     ]
    },
    {
     "data": {
      "image/png": "[encoded data removed]",
      "text/plain": [
       "<Figure size 864x288 with 1 Axes>"
      ]
     },
     "metadata": {
      "needs_background": "light"
     },
     "output_type": "display_data"
    }
   ],
   "source": [
    "plt.figure(figsize=(12, 4))\n",
    "book.text2.dispersion_plot([\"Elinor\", \"Marianne\", \"Edward\", \"Willoughby\"])"
   ]
  },
  {
   "cell_type": "markdown",
   "metadata": {},
   "source": [
    "It is remarkable, that Edward and Willoughby don't often appear at the same time in the book. Assuming, however, that couples often appear together, Elinor and Edward would be a couple (intense conversation between them at around 44000) and Marianne and Willoughby."
   ]
  },
  {
   "cell_type": "markdown",
   "metadata": {},
   "source": [
    "### Exercise 3\n",
    "\n",
    "Find the collocations in `text6`."
   ]
  },
  {
   "cell_type": "code",
   "execution_count": 26,
   "metadata": {},
   "outputs": [
    {
     "name": "stdout",
     "output_type": "stream",
     "text": [
      "BLACK KNIGHT; clop clop; HEAD KNIGHT; mumble mumble; Holy Grail;\n",
      "squeak squeak; FRENCH GUARD; saw saw; Sir Robin; Run away; CARTOON\n",
      "CHARACTER; King Arthur; Iesu domine; Pie Iesu; DEAD PERSON; Round\n",
      "Table; clap clap; OLD MAN; dramatic chord; dona eis\n"
     ]
    }
   ],
   "source": [
    "book.text6.collocations()"
   ]
  },
  {
   "cell_type": "markdown",
   "metadata": {},
   "source": [
    "### Exercise 4\n",
    "\n",
    "Use only the `index()` function to find all the indexes of the word \"sunset\" in `text9`."
   ]
  },
  {
   "cell_type": "code",
   "execution_count": 46,
   "metadata": {},
   "outputs": [
    {
     "name": "stdout",
     "output_type": "stream",
     "text": [
      "[629, 642, 1432, 1650, 13335, 13381, 16313, 27014, 49340, 52092, 60857, 60862, 64721, 64736]\n"
     ]
    }
   ],
   "source": [
    "text = book.text9\n",
    "word = \"sunset\"\n",
    "offset = 0\n",
    "\n",
    "indexes = []\n",
    "while word in text[offset:len(text)]:\n",
    "    index = text[offset:len(text)].index(word) + offset\n",
    "    indexes.append(index)\n",
    "    offset = index + 1\n",
    "    \n",
    "print(indexes)"
   ]
  },
  {
   "cell_type": "markdown",
   "metadata": {},
   "source": [
    "### Exercise 5\n",
    "\n",
    "What is the difference between the following two lines? Calculate the two values:\n",
    "\n",
    "    len(sorted(set(w.lower() for w in text1)))\n",
    "    len(sorted(w.lower() for w in set(text1)))"
   ]
  },
  {
   "cell_type": "code",
   "execution_count": 51,
   "metadata": {},
   "outputs": [
    {
     "data": {
      "text/plain": [
       "17231"
      ]
     },
     "execution_count": 51,
     "metadata": {},
     "output_type": "execute_result"
    }
   ],
   "source": [
    "len(sorted(set(w.lower() for w in book.text1)))"
   ]
  },
  {
   "cell_type": "code",
   "execution_count": 52,
   "metadata": {},
   "outputs": [
    {
     "data": {
      "text/plain": [
       "19317"
      ]
     },
     "execution_count": 52,
     "metadata": {},
     "output_type": "execute_result"
    }
   ],
   "source": [
    "len(sorted(w.lower() for w in set(book.text1)))"
   ]
  },
  {
   "cell_type": "markdown",
   "metadata": {},
   "source": [
    "The difference between both lines is that the first line's set must contain less words because all words are lowered in the first place before \"sorting out\" same words. \"Morning\" and \"morning\" both become \"morning\" and are therefore reduced to just one occurence in the set. \n",
    "\n",
    "In the second line we first make a set out of all words (which can contain \"Morning\" and \"morning\") and lower each word afterwards (and sort them)."
   ]
  },
  {
   "cell_type": "markdown",
   "metadata": {},
   "source": [
    "### Exercise 6\n",
    "\n",
    "Write the slice expression that extracts the last two words of `text2`."
   ]
  },
  {
   "cell_type": "code",
   "execution_count": 65,
   "metadata": {},
   "outputs": [
    {
     "data": {
      "text/plain": [
       "['THE', 'END']"
      ]
     },
     "execution_count": 65,
     "metadata": {},
     "output_type": "execute_result"
    }
   ],
   "source": [
    "book.text2[len(book.text2)-2:len(book.text2)]\n",
    "book.text2[-2:]"
   ]
  },
  {
   "cell_type": "markdown",
   "metadata": {},
   "source": [
    "### Exercise 7\n",
    "\n",
    "Find all the four-letter words in `text6`. With the help of a frequency distribution (`FreqDist`), show these words in decreasing order of frequency.\n"
   ]
  },
  {
   "cell_type": "code",
   "execution_count": 66,
   "metadata": {},
   "outputs": [
    {
     "data": {
      "text/plain": [
       "2298"
      ]
     },
     "execution_count": 66,
     "metadata": {},
     "output_type": "execute_result"
    }
   ],
   "source": [
    "length_four_words = [word for word in book.text6 if len(word) == 4]\n",
    "len(length_four_words)"
   ]
  },
  {
   "cell_type": "code",
   "execution_count": 69,
   "metadata": {},
   "outputs": [
    {
     "data": {
      "text/plain": [
       "[('that', 84),\n",
       " ('your', 75),\n",
       " ('What', 65),\n",
       " ('this', 59),\n",
       " ('Well', 54),\n",
       " ('HEAD', 54),\n",
       " ('have', 53),\n",
       " ('boom', 45),\n",
       " ('clop', 39),\n",
       " ('with', 38),\n",
       " ('away', 38),\n",
       " ('here', 34),\n",
       " ('Burn', 32),\n",
       " ('King', 27),\n",
       " ('what', 27),\n",
       " ('Come', 26),\n",
       " ('just', 25),\n",
       " ('tell', 24),\n",
       " ('Look', 24),\n",
       " ('Holy', 24),\n",
       " ('must', 23),\n",
       " ('will', 22),\n",
       " ('That', 22),\n",
       " ('dead', 22),\n",
       " ('from', 20)]"
      ]
     },
     "execution_count": 69,
     "metadata": {},
     "output_type": "execute_result"
    }
   ],
   "source": [
    "freq_dist = nltk.FreqDist(length_four_words)\n",
    "freq_dist.most_common(25)"
   ]
  },
  {
   "cell_type": "markdown",
   "metadata": {},
   "source": [
    "### Exercise 8\n",
    "\n",
    "Create a set for the words in `text6`. Use a `for` and an `if` statement to loop over the words in the set and print all titlecased words with more than one character, one per line.\n"
   ]
  },
  {
   "cell_type": "code",
   "execution_count": 73,
   "metadata": {},
   "outputs": [
    {
     "name": "stdout",
     "output_type": "stream",
     "text": [
      "Tis\n",
      "Shall\n",
      "Himself\n",
      "Try\n",
      "Oooooooh\n",
      "Schools\n",
      "Huy\n",
      "Hoo\n",
      "Honestly\n",
      "Said\n",
      "Dis\n",
      "He\n",
      "Spring\n",
      "Lord\n",
      "Gorge\n",
      "Britain\n",
      "For\n",
      "Hand\n",
      "Wood\n",
      "And\n",
      "Hold\n",
      "You\n",
      "Jesus\n",
      "Uhh\n",
      "Prepare\n",
      "Twenty\n",
      "Bravely\n",
      "No\n",
      "But\n",
      "European\n",
      "Ives\n",
      "Hyy\n",
      "Beyond\n",
      "Ages\n",
      "Wait\n",
      "Please\n",
      "Lead\n",
      "Eee\n",
      "Prince\n",
      "Hill\n",
      "Thou\n",
      "Ninepence\n",
      "Yapping\n",
      "Thank\n",
      "Forgive\n",
      "Wayy\n",
      "Camaaaaaargue\n",
      "Now\n",
      "Ayy\n",
      "Or\n",
      "Aggh\n",
      "Well\n",
      "Battle\n",
      "Oh\n",
      "Holy\n",
      "Saxons\n",
      "Don\n",
      "Is\n",
      "Hurry\n",
      "Bridge\n",
      "Really\n",
      "Apples\n",
      "Actually\n",
      "Two\n",
      "Meanwhile\n",
      "Everything\n",
      "Supposing\n",
      "Grenade\n",
      "Aaaaaaaaah\n",
      "Churches\n",
      "Erm\n",
      "Zoot\n",
      "Splendid\n",
      "Heh\n",
      "Lady\n",
      "Table\n",
      "Thy\n",
      "That\n",
      "Book\n",
      "Lucky\n",
      "Antioch\n",
      "Badon\n",
      "Chicken\n",
      "Quoi\n",
      "Do\n",
      "Bones\n",
      "Monsieur\n",
      "Ho\n",
      "Remove\n",
      "Say\n",
      "All\n",
      "Fine\n",
      "Today\n",
      "Galahad\n",
      "Tim\n",
      "Isn\n",
      "We\n",
      "Perhaps\n",
      "Caerbannog\n",
      "Listen\n",
      "Pie\n",
      "Then\n",
      "Halt\n",
      "English\n",
      "Bedevere\n",
      "Stay\n",
      "Shh\n",
      "Cut\n",
      "Hic\n",
      "Speak\n",
      "Thpppt\n",
      "Quickly\n",
      "Aauuugh\n",
      "Chaste\n",
      "Bristol\n",
      "Bring\n",
      "Knight\n",
      "Victory\n",
      "Follow\n",
      "Nay\n",
      "Since\n",
      "Hiyaah\n",
      "Bread\n",
      "Yup\n",
      "Yeaah\n",
      "Blue\n",
      "Aaaaugh\n",
      "Mind\n",
      "Skip\n",
      "Yay\n",
      "Back\n",
      "Action\n",
      "Augh\n",
      "Four\n",
      "True\n",
      "Could\n",
      "Cornwall\n",
      "This\n",
      "Aaaaaah\n",
      "His\n",
      "There\n",
      "Didn\n",
      "Dennis\n",
      "Charge\n",
      "Nothing\n",
      "Torment\n",
      "Chop\n",
      "Forward\n",
      "Sorry\n",
      "Concorde\n",
      "Thsss\n",
      "Britons\n",
      "Never\n",
      "Look\n",
      "Hooray\n",
      "Practice\n",
      "Knights\n",
      "Un\n",
      "Dappy\n",
      "Winston\n",
      "Aaauugh\n",
      "African\n",
      "Peril\n",
      "Chapter\n",
      "Umm\n",
      "At\n",
      "Herbert\n",
      "Aauuggghhh\n",
      "Hmm\n",
      "Waa\n",
      "Camelot\n",
      "Guy\n",
      "Robinson\n",
      "Beast\n",
      "In\n",
      "Aagh\n",
      "Oui\n",
      "Quick\n",
      "Most\n",
      "Away\n",
      "She\n",
      "Chickennn\n",
      "Did\n",
      "Supreme\n",
      "Castle\n",
      "Thppppt\n",
      "Hya\n",
      "Far\n",
      "Winter\n",
      "Saint\n",
      "Angnor\n",
      "As\n",
      "Running\n",
      "Exactly\n",
      "Aaaaaaaah\n",
      "Uuh\n",
      "By\n",
      "Hello\n",
      "Ector\n",
      "Hiyya\n",
      "Black\n",
      "Throw\n",
      "Midget\n",
      "Cherries\n",
      "Not\n",
      "Idiom\n",
      "Pendragon\n",
      "Eternal\n",
      "Come\n",
      "Put\n",
      "Therefore\n",
      "Fetchez\n",
      "Other\n",
      "Ere\n",
      "Lie\n",
      "Leaving\n",
      "Oooo\n",
      "Iiiiives\n",
      "Arthur\n",
      "Summer\n",
      "Aauuuves\n",
      "Hallo\n",
      "Piglet\n",
      "Doctor\n",
      "Ridden\n",
      "How\n",
      "None\n",
      "More\n",
      "If\n",
      "Surely\n",
      "Let\n",
      "Have\n",
      "Allo\n",
      "Huh\n",
      "Will\n",
      "Of\n",
      "Be\n",
      "Yes\n",
      "Bon\n",
      "Greetings\n",
      "Hoa\n",
      "Found\n",
      "Arimathea\n",
      "Farewell\n",
      "Once\n",
      "Great\n",
      "Eh\n",
      "Olfin\n",
      "Mercea\n",
      "An\n",
      "Rheged\n",
      "Ow\n",
      "Over\n",
      "Sir\n",
      "Oooohoohohooo\n",
      "Quite\n",
      "Morning\n",
      "Dingo\n",
      "Oooh\n",
      "Burn\n",
      "Open\n",
      "Woa\n",
      "Make\n",
      "Lake\n",
      "Neee\n",
      "Amen\n",
      "Loimbard\n",
      "Assyria\n",
      "Thpppppt\n",
      "Recently\n",
      "Alice\n",
      "Defeat\n",
      "One\n",
      "Ulk\n",
      "Run\n",
      "Guards\n",
      "Nador\n",
      "Ahh\n",
      "Ohh\n",
      "England\n",
      "Grail\n",
      "Iiiives\n",
      "Anarcho\n",
      "Pin\n",
      "Ni\n",
      "Ecky\n",
      "Agh\n",
      "Excalibur\n",
      "Anthrax\n",
      "Princess\n",
      "Launcelot\n",
      "Aaah\n",
      "Who\n",
      "Am\n",
      "Pull\n",
      "Peng\n",
      "Looks\n",
      "Why\n",
      "Anyway\n",
      "Get\n",
      "Um\n",
      "Nu\n",
      "Father\n",
      "Here\n",
      "Mine\n",
      "Hang\n",
      "My\n",
      "Yeaaah\n",
      "Ewing\n",
      "Your\n",
      "Explain\n",
      "Roger\n",
      "Three\n",
      "Stand\n",
      "Go\n",
      "So\n",
      "Providence\n",
      "Bad\n",
      "Aah\n",
      "Stop\n",
      "Christ\n",
      "Fiends\n",
      "Build\n",
      "Swamp\n",
      "Just\n",
      "Consult\n",
      "Umhm\n",
      "Armaments\n",
      "Where\n",
      "Picture\n",
      "Order\n",
      "On\n",
      "Heee\n",
      "Clear\n",
      "Bloody\n",
      "Between\n",
      "Aaagh\n",
      "Til\n",
      "To\n",
      "Every\n",
      "Rather\n",
      "Divine\n",
      "Bedwere\n",
      "Course\n",
      "Ah\n",
      "Right\n",
      "Those\n",
      "Bravest\n",
      "Ask\n",
      "Very\n",
      "Lancelot\n",
      "Shut\n",
      "Like\n",
      "Message\n",
      "Even\n",
      "Mmm\n",
      "Tale\n",
      "Autumn\n",
      "Our\n",
      "Cider\n",
      "Silly\n",
      "Dramatically\n",
      "Good\n",
      "Keep\n",
      "First\n",
      "Patsy\n",
      "Uther\n",
      "Ooh\n",
      "Nine\n",
      "Round\n",
      "Tall\n",
      "Mud\n",
      "Whoa\n",
      "Court\n",
      "French\n",
      "Hiyah\n",
      "Old\n",
      "Joseph\n",
      "Must\n",
      "Yeah\n",
      "King\n",
      "Shrubberies\n",
      "Aaaugh\n",
      "Huyah\n",
      "Psalms\n",
      "Which\n",
      "Welcome\n",
      "See\n",
      "Ha\n",
      "Brave\n",
      "Thppt\n",
      "Riiight\n",
      "Frank\n",
      "Packing\n",
      "Uugh\n",
      "Five\n",
      "Hah\n",
      "Hm\n",
      "Iesu\n",
      "Anybody\n",
      "They\n",
      "France\n",
      "Walk\n",
      "Use\n",
      "Dragon\n",
      "Are\n",
      "Gawain\n",
      "Death\n",
      "Quiet\n",
      "Maynard\n",
      "Would\n",
      "Pure\n",
      "Tower\n",
      "Until\n",
      "Steady\n",
      "Hey\n",
      "Thee\n",
      "Ay\n",
      "Shrubber\n",
      "Alright\n",
      "Tell\n",
      "Mother\n",
      "Seek\n",
      "Haw\n",
      "Almighty\n",
      "Thursday\n",
      "Man\n",
      "When\n",
      "Off\n",
      "Gable\n",
      "Too\n",
      "What\n",
      "The\n",
      "With\n",
      "Aaaah\n",
      "Brother\n",
      "Aramaic\n",
      "God\n",
      "Together\n",
      "Erbert\n",
      "It\n",
      "Robin\n",
      "Hee\n",
      "Crapper\n",
      "Enchanter\n",
      "Firstly\n",
      "Bors\n",
      "Behold\n",
      "Unfortunately\n",
      "Silence\n",
      "May\n",
      "Gallahad\n",
      "Help\n",
      "Clark\n",
      "Does\n",
      "Aaauggh\n",
      "Excuse\n",
      "Attila\n",
      "Auuuuuuuugh\n",
      "Aauuuuugh\n",
      "Uh\n"
     ]
    }
   ],
   "source": [
    "word_set = set(book.text6)\n",
    "\n",
    "for word in word_set:\n",
    "    if len(word) > 1 and word[0].isupper() and word[1:].islower():\n",
    "        print(word)"
   ]
  },
  {
   "cell_type": "markdown",
   "metadata": {},
   "source": [
    "### Exercise 9\n",
    "\n",
    "Write expressions for finding all words in `text6` that meet the conditions listed below:\n",
    "\n",
    "a) ending in \"ing\", \n",
    "\n",
    "b) containing the letter \"z\",\n",
    "\n",
    "c) containing the letter sequence \"pt\".\n"
   ]
  },
  {
   "cell_type": "code",
   "execution_count": 83,
   "metadata": {},
   "outputs": [
    {
     "data": {
      "text/plain": [
       "['working',\n",
       " 'telling',\n",
       " 'something',\n",
       " 'wounding',\n",
       " 'whispering',\n",
       " 'excepting',\n",
       " 'shivering',\n",
       " 'smashing',\n",
       " 'appearing',\n",
       " 'coming',\n",
       " 'amazing',\n",
       " 'morning',\n",
       " 'depressing',\n",
       " 'anging',\n",
       " 'understanding',\n",
       " 'king',\n",
       " 'everything',\n",
       " 'running',\n",
       " 'dying',\n",
       " 'perpetuating',\n",
       " 'wedding',\n",
       " 'walking',\n",
       " 'binding',\n",
       " 'yelling',\n",
       " 'chickening',\n",
       " 'bring',\n",
       " 'averting',\n",
       " 'distributing',\n",
       " 'spanking',\n",
       " 'herring',\n",
       " 'writing',\n",
       " 'spring',\n",
       " 'entering',\n",
       " 'training',\n",
       " 'yapping',\n",
       " 'riding',\n",
       " 'taunting',\n",
       " 'looking',\n",
       " 'bitching',\n",
       " 'thing',\n",
       " 'shimmering',\n",
       " 'doing',\n",
       " 'passing',\n",
       " 'carving',\n",
       " 'crying',\n",
       " 'lying',\n",
       " 'throwing',\n",
       " 'sing',\n",
       " 'making',\n",
       " 'blessing',\n",
       " 'going',\n",
       " 'kneeling',\n",
       " 'guiding',\n",
       " 'exciting',\n",
       " 'bringing',\n",
       " 'preserving',\n",
       " 'boing',\n",
       " 'approaching',\n",
       " 'daring',\n",
       " 'suggesting',\n",
       " 'singing',\n",
       " 'fooling',\n",
       " 'starling',\n",
       " 'chanting',\n",
       " 'warning',\n",
       " 'taking',\n",
       " 'leaving',\n",
       " 'ewing',\n",
       " 'dancing',\n",
       " 'carrying',\n",
       " 'opening',\n",
       " 'using',\n",
       " 'resting',\n",
       " 'dragging',\n",
       " 'enjoying',\n",
       " 'packing',\n",
       " 'rejoicing',\n",
       " 'marrying',\n",
       " 'counting',\n",
       " 'setting',\n",
       " 'learning',\n",
       " 'dictating',\n",
       " 'dressing',\n",
       " 'undressing',\n",
       " 'supposing',\n",
       " 'bathing',\n",
       " 'pissing',\n",
       " 'wetting',\n",
       " 'acting',\n",
       " 'buggering',\n",
       " 'meeting',\n",
       " 'anything',\n",
       " 'having',\n",
       " 'string',\n",
       " 'asking',\n",
       " 'groveling',\n",
       " 'sneaking',\n",
       " 'being',\n",
       " 'exploiting',\n",
       " 'nothing',\n",
       " 'repressing',\n",
       " 'signifying',\n",
       " 'getting',\n",
       " 'living',\n",
       " 'laughing',\n",
       " 'saying',\n",
       " 'advancing']"
      ]
     },
     "execution_count": 83,
     "metadata": {},
     "output_type": "execute_result"
    }
   ],
   "source": [
    "text = set(w.lower() for w in book.text6) # Removes duplicates later on \n",
    "\n",
    "ing_words = [ing for ing in text if ing[-3:] == \"ing\"]\n",
    "ing_words"
   ]
  },
  {
   "cell_type": "code",
   "execution_count": 84,
   "metadata": {},
   "outputs": [
    {
     "data": {
      "text/plain": [
       "['amazing',\n",
       " 'zoo',\n",
       " 'zone',\n",
       " 'zoosh',\n",
       " 'zhiv',\n",
       " 'zoot',\n",
       " 'fetchez',\n",
       " 'frozen',\n",
       " 'zoop',\n",
       " 'amazes']"
      ]
     },
     "execution_count": 84,
     "metadata": {},
     "output_type": "execute_result"
    }
   ],
   "source": [
    "z_words = [z_word for z_word in text if 'z' in z_word]\n",
    "z_words"
   ]
  },
  {
   "cell_type": "code",
   "execution_count": 86,
   "metadata": {},
   "outputs": [
    {
     "data": {
      "text/plain": [
       "['temptation',\n",
       " 'excepting',\n",
       " 'empty',\n",
       " 'aptly',\n",
       " 'temptress',\n",
       " 'thppt',\n",
       " 'chapter',\n",
       " 'ptoo',\n",
       " 'thppppt',\n",
       " 'thpppppt',\n",
       " 'thpppt']"
      ]
     },
     "execution_count": 86,
     "metadata": {},
     "output_type": "execute_result"
    }
   ],
   "source": [
    "pt_words = [pt_word for pt_word in text if \"pt\" in pt_word]\n",
    "pt_words"
   ]
  },
  {
   "cell_type": "markdown",
   "metadata": {},
   "source": [
    "### Exercise 10\n",
    "\n",
    "Define `sent` to be the list of words `['she', 'sells', 'sea', 'shells', 'by', 'the', 'sea', 'shore']`. Now write code to perform the following tasks:\n",
    "\n",
    "a) print all words beginning with \"sh\",\n",
    "\n",
    "b) print all words longer than four characters."
   ]
  },
  {
   "cell_type": "code",
   "execution_count": 91,
   "metadata": {},
   "outputs": [
    {
     "name": "stdout",
     "output_type": "stream",
     "text": [
      "['she', 'shells', 'shore']\n",
      "['sells', 'shells', 'shore']\n"
     ]
    }
   ],
   "source": [
    "sent = ['she', 'sells', 'sea', 'shells', 'by', 'the', 'sea', 'shore']\n",
    "\n",
    "print([word for word in sent if word[:2] == \"sh\"])\n",
    "print([word for word in sent if len(word) > 4])"
   ]
  },
  {
   "cell_type": "markdown",
   "metadata": {},
   "source": [
    "### Exercise 11\n",
    "\n",
    "What does the following Python code do? \n",
    "\n",
    "`sum(len(w) for w in text1)`\n",
    "\n",
    "Can you use it to work out the average word length of `text1`?"
   ]
  },
  {
   "cell_type": "markdown",
   "metadata": {},
   "source": [
    "This expression sums up the length of every word in text1, therefore resulting in the complete text length (word count). We can divide this by the number of words in the text in order to get the average word length.\n",
    "\n",
    "`sum(len(w) for w in text1) / len(text1)`"
   ]
  },
  {
   "cell_type": "code",
   "execution_count": 96,
   "metadata": {},
   "outputs": [
    {
     "data": {
      "text/plain": [
       "3.830411128023649"
      ]
     },
     "execution_count": 96,
     "metadata": {},
     "output_type": "execute_result"
    }
   ],
   "source": [
    "sum(len(w) for w in book.text1) / len(book.text1)"
   ]
  },
  {
   "cell_type": "markdown",
   "metadata": {},
   "source": [
    "### Exercise 12\n",
    "\n",
    "Define a function `freq(word, text)` that calculates how often a given word occurs in a text, not using `count()` but a `FreqDist`. Use the function to calculate how often \"promise\" appears in `text4`."
   ]
  },
  {
   "cell_type": "code",
   "execution_count": 100,
   "metadata": {},
   "outputs": [
    {
     "data": {
      "text/plain": [
       "48"
      ]
     },
     "execution_count": 100,
     "metadata": {},
     "output_type": "execute_result"
    }
   ],
   "source": [
    "def freq(word, text):\n",
    "    freq_dist = nltk.FreqDist(text)\n",
    "    return freq_dist[word]\n",
    "\n",
    "freq(\"promise\", book.text4)"
   ]
  }
 ],
 "metadata": {
  "kernelspec": {
   "display_name": "Python 3 (ipykernel)",
   "language": "python",
   "name": "python3"
  },
  "language_info": {
   "codemirror_mode": {
    "name": "ipython",
    "version": 3
   },
   "file_extension": ".py",
   "mimetype": "text/x-python",
   "name": "python",
   "nbconvert_exporter": "python",
   "pygments_lexer": "ipython3",
   "version": "3.9.4"
  }
 },
 "nbformat": 4,
 "nbformat_minor": 4
}
