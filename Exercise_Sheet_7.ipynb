{
 "cells": [
  {
   "cell_type": "markdown",
   "metadata": {},
   "source": [
    "# Natural Language Processing\n",
    "\n",
    "## Exercise Sheet 7"
   ]
  },
  {
   "cell_type": "code",
   "execution_count": 1,
   "metadata": {},
   "outputs": [],
   "source": [
    "#imports for all exercises\n",
    "import os\n",
    "import nltk\n",
    "import re\n",
    "import pprint\n",
    "import random\n",
    "import matplotlib.pyplot as plt\n",
    "import nltk.classify as classify\n",
    "import svgling\n",
    "\n",
    "from nltk.corpus import conll2000"
   ]
  },
  {
   "cell_type": "markdown",
   "metadata": {},
   "source": [
    "### Exercise 1\n",
    "\n",
    "Extend the chunk grammar"
   ]
  },
  {
   "cell_type": "code",
   "execution_count": 607,
   "metadata": {},
   "outputs": [],
   "source": [
    "grammar = \"NP: {<DT>?<JJ|CD>*<NNS?>}\""
   ]
  },
  {
   "cell_type": "markdown",
   "metadata": {},
   "source": [
    "to also match noun phrases containing plural head nouns. Test your grammar with the following sentences:"
   ]
  },
  {
   "cell_type": "code",
   "execution_count": 608,
   "metadata": {},
   "outputs": [],
   "source": [
    "sentence1 = [(\"many\", \"JJ\"), (\"dogs\", \"NNS\"), (\"barked\", \"VBD\"), (\"at\", \"IN\"), (\"the\", \"DT\"), (\"cat\", \"NN\")]\n",
    "sentence2 = [(\"two\", \"CD\"), (\"dogs\", \"NNS\"), (\"barked\", \"VBD\"), (\"at\", \"IN\"), (\"the\", \"DT\"), (\"cat\", \"NN\")]\n",
    "sentence3 = [(\"both\", \"DT\"), (\"new\", \"JJ\"), (\"dogs\", \"NNS\"), (\"barked\", \"VBD\"),(\"at\", \"IN\"),  (\"the\", \"DT\"), \n",
    "             (\"cat\", \"NN\")]"
   ]
  },
  {
   "cell_type": "code",
   "execution_count": 609,
   "metadata": {},
   "outputs": [
    {
     "data": {
      "image/svg+xml": [
       "<svg baseProfile=\"full\" height=\"168px\" preserveAspectRatio=\"xMidYMid meet\" style=\"font-family: times, serif; font-weight:normal; font-style: normal; font-size: 16px;\" version=\"1.1\" viewBox=\"0,0,312.0,168.0\" width=\"312px\" xmlns=\"http://www.w3.org/2000/svg\" xmlns:ev=\"http://www.w3.org/2001/xml-events\" xmlns:xlink=\"http://www.w3.org/1999/xlink\"><defs /><svg width=\"100%\" x=\"0\" y=\"0em\"><defs /><text text-anchor=\"middle\" x=\"50%\" y=\"1em\">S</text></svg><svg width=\"43.5897%\" x=\"0%\" y=\"3em\"><defs /><svg width=\"100%\" x=\"0\" y=\"0em\"><defs /><text text-anchor=\"middle\" x=\"50%\" y=\"1em\">NP</text></svg><svg width=\"35.2941%\" x=\"0%\" y=\"3em\"><defs /><svg width=\"100%\" x=\"0\" y=\"0em\"><defs /><text text-anchor=\"middle\" x=\"50%\" y=\"1em\">both</text></svg><svg width=\"100%\" x=\"0%\" y=\"3em\"><defs /><svg width=\"100%\" x=\"0\" y=\"0em\"><defs /><text text-anchor=\"middle\" x=\"50%\" y=\"1em\">DT</text></svg></svg><line stroke=\"black\" x1=\"50%\" x2=\"50%\" y1=\"1.2em\" y2=\"3em\" /></svg><line stroke=\"black\" x1=\"50%\" x2=\"17.6471%\" y1=\"1.2em\" y2=\"3em\" /><svg width=\"29.4118%\" x=\"35.2941%\" y=\"3em\"><defs /><svg width=\"100%\" x=\"0\" y=\"0em\"><defs /><text text-anchor=\"middle\" x=\"50%\" y=\"1em\">new</text></svg><svg width=\"100%\" x=\"0%\" y=\"3em\"><defs /><svg width=\"100%\" x=\"0\" y=\"0em\"><defs /><text text-anchor=\"middle\" x=\"50%\" y=\"1em\">JJ</text></svg></svg><line stroke=\"black\" x1=\"50%\" x2=\"50%\" y1=\"1.2em\" y2=\"3em\" /></svg><line stroke=\"black\" x1=\"50%\" x2=\"50%\" y1=\"1.2em\" y2=\"3em\" /><svg width=\"35.2941%\" x=\"64.7059%\" y=\"3em\"><defs /><svg width=\"100%\" x=\"0\" y=\"0em\"><defs /><text text-anchor=\"middle\" x=\"50%\" y=\"1em\">dogs</text></svg><svg width=\"100%\" x=\"0%\" y=\"3em\"><defs /><svg width=\"100%\" x=\"0\" y=\"0em\"><defs /><text text-anchor=\"middle\" x=\"50%\" y=\"1em\">NNS</text></svg></svg><line stroke=\"black\" x1=\"50%\" x2=\"50%\" y1=\"1.2em\" y2=\"3em\" /></svg><line stroke=\"black\" x1=\"50%\" x2=\"82.3529%\" y1=\"1.2em\" y2=\"3em\" /></svg><line stroke=\"black\" x1=\"50%\" x2=\"21.7949%\" y1=\"1.2em\" y2=\"3em\" /><svg width=\"20.5128%\" x=\"43.5897%\" y=\"3em\"><defs /><svg width=\"100%\" x=\"0\" y=\"0em\"><defs /><text text-anchor=\"middle\" x=\"50%\" y=\"1em\">barked</text></svg><svg width=\"100%\" x=\"0%\" y=\"3em\"><defs /><svg width=\"100%\" x=\"0\" y=\"0em\"><defs /><text text-anchor=\"middle\" x=\"50%\" y=\"1em\">VBD</text></svg></svg><line stroke=\"black\" x1=\"50%\" x2=\"50%\" y1=\"1.2em\" y2=\"3em\" /></svg><line stroke=\"black\" x1=\"50%\" x2=\"53.8462%\" y1=\"1.2em\" y2=\"3em\" /><svg width=\"10.2564%\" x=\"64.1026%\" y=\"3em\"><defs /><svg width=\"100%\" x=\"0\" y=\"0em\"><defs /><text text-anchor=\"middle\" x=\"50%\" y=\"1em\">at</text></svg><svg width=\"100%\" x=\"0%\" y=\"3em\"><defs /><svg width=\"100%\" x=\"0\" y=\"0em\"><defs /><text text-anchor=\"middle\" x=\"50%\" y=\"1em\">IN</text></svg></svg><line stroke=\"black\" x1=\"50%\" x2=\"50%\" y1=\"1.2em\" y2=\"3em\" /></svg><line stroke=\"black\" x1=\"50%\" x2=\"69.2308%\" y1=\"1.2em\" y2=\"3em\" /><svg width=\"25.641%\" x=\"74.359%\" y=\"3em\"><defs /><svg width=\"100%\" x=\"0\" y=\"0em\"><defs /><text text-anchor=\"middle\" x=\"50%\" y=\"1em\">NP</text></svg><svg width=\"50%\" x=\"0%\" y=\"3em\"><defs /><svg width=\"100%\" x=\"0\" y=\"0em\"><defs /><text text-anchor=\"middle\" x=\"50%\" y=\"1em\">the</text></svg><svg width=\"100%\" x=\"0%\" y=\"3em\"><defs /><svg width=\"100%\" x=\"0\" y=\"0em\"><defs /><text text-anchor=\"middle\" x=\"50%\" y=\"1em\">DT</text></svg></svg><line stroke=\"black\" x1=\"50%\" x2=\"50%\" y1=\"1.2em\" y2=\"3em\" /></svg><line stroke=\"black\" x1=\"50%\" x2=\"25%\" y1=\"1.2em\" y2=\"3em\" /><svg width=\"50%\" x=\"50%\" y=\"3em\"><defs /><svg width=\"100%\" x=\"0\" y=\"0em\"><defs /><text text-anchor=\"middle\" x=\"50%\" y=\"1em\">cat</text></svg><svg width=\"100%\" x=\"0%\" y=\"3em\"><defs /><svg width=\"100%\" x=\"0\" y=\"0em\"><defs /><text text-anchor=\"middle\" x=\"50%\" y=\"1em\">NN</text></svg></svg><line stroke=\"black\" x1=\"50%\" x2=\"50%\" y1=\"1.2em\" y2=\"3em\" /></svg><line stroke=\"black\" x1=\"50%\" x2=\"75%\" y1=\"1.2em\" y2=\"3em\" /></svg><line stroke=\"black\" x1=\"50%\" x2=\"87.1795%\" y1=\"1.2em\" y2=\"3em\" /></svg>"
      ],
      "text/plain": [
       "TreeLayout(Tree('S', [Tree('NP', [('both', 'DT'), ('new', 'JJ'), ('dogs', 'NNS')]), ('barked', 'VBD'), ('at', 'IN'), Tree('NP', [('the', 'DT'), ('cat', 'NN')])]))"
      ]
     },
     "execution_count": 609,
     "metadata": {},
     "output_type": "execute_result"
    }
   ],
   "source": [
    "cp = nltk.RegexpParser(grammar)\n",
    "result = cp.parse(sentence3)\n",
    "svgling.draw_tree(result)"
   ]
  },
  {
   "cell_type": "markdown",
   "metadata": {},
   "source": [
    "### Exercise 2\n",
    "\n",
    "Extend the grammar from Exercise 1 to also cover noun phrases that contain gerunds. Test your grammar with the following sentences and the sentences from Exercise 1:"
   ]
  },
  {
   "cell_type": "code",
   "execution_count": 620,
   "metadata": {},
   "outputs": [],
   "source": [
    "grammar = \"NP: {<DT>?<JJ|CD>*(<NN>*<.+G>*)*<NNS?>}\" # also includes additional nouns that belong to the main noun"
   ]
  },
  {
   "cell_type": "code",
   "execution_count": 623,
   "metadata": {},
   "outputs": [],
   "source": [
    "sentence4 = [(\"many\", \"JJ\"), (\"dogs\", \"NNS\"), (\"barked\", \"VBD\"), (\"at\", \"IN\"), \n",
    "             (\"the\", \"DT\"), (\"meowing\", \"VBG\"), (\"cat\", \"NN\")]\n",
    "sentence5 = [(\"the\", \"DT\"), (\"man\", \"NN\"), (\"wants\", \"VBZ\"), (\"to\", \"TO\"), (\"become\", \"VB\"), \n",
    "             (\"assistant\", \"NN\"), (\"managing\", \"VBG\"), (\"director\", \"NN\")] "
   ]
  },
  {
   "cell_type": "code",
   "execution_count": 624,
   "metadata": {},
   "outputs": [
    {
     "data": {
      "image/svg+xml": [
       "<svg baseProfile=\"full\" height=\"168px\" preserveAspectRatio=\"xMidYMid meet\" style=\"font-family: times, serif; font-weight:normal; font-style: normal; font-size: 16px;\" version=\"1.1\" viewBox=\"0,0,344.0,168.0\" width=\"344px\" xmlns=\"http://www.w3.org/2000/svg\" xmlns:ev=\"http://www.w3.org/2001/xml-events\" xmlns:xlink=\"http://www.w3.org/1999/xlink\"><defs /><svg width=\"100%\" x=\"0\" y=\"0em\"><defs /><text text-anchor=\"middle\" x=\"50%\" y=\"1em\">S</text></svg><svg width=\"27.907%\" x=\"0%\" y=\"3em\"><defs /><svg width=\"100%\" x=\"0\" y=\"0em\"><defs /><text text-anchor=\"middle\" x=\"50%\" y=\"1em\">NP</text></svg><svg width=\"50%\" x=\"0%\" y=\"3em\"><defs /><svg width=\"100%\" x=\"0\" y=\"0em\"><defs /><text text-anchor=\"middle\" x=\"50%\" y=\"1em\">many</text></svg><svg width=\"100%\" x=\"0%\" y=\"3em\"><defs /><svg width=\"100%\" x=\"0\" y=\"0em\"><defs /><text text-anchor=\"middle\" x=\"50%\" y=\"1em\">JJ</text></svg></svg><line stroke=\"black\" x1=\"50%\" x2=\"50%\" y1=\"1.2em\" y2=\"3em\" /></svg><line stroke=\"black\" x1=\"50%\" x2=\"25%\" y1=\"1.2em\" y2=\"3em\" /><svg width=\"50%\" x=\"50%\" y=\"3em\"><defs /><svg width=\"100%\" x=\"0\" y=\"0em\"><defs /><text text-anchor=\"middle\" x=\"50%\" y=\"1em\">dogs</text></svg><svg width=\"100%\" x=\"0%\" y=\"3em\"><defs /><svg width=\"100%\" x=\"0\" y=\"0em\"><defs /><text text-anchor=\"middle\" x=\"50%\" y=\"1em\">NNS</text></svg></svg><line stroke=\"black\" x1=\"50%\" x2=\"50%\" y1=\"1.2em\" y2=\"3em\" /></svg><line stroke=\"black\" x1=\"50%\" x2=\"75%\" y1=\"1.2em\" y2=\"3em\" /></svg><line stroke=\"black\" x1=\"50%\" x2=\"13.9535%\" y1=\"1.2em\" y2=\"3em\" /><svg width=\"18.6047%\" x=\"27.907%\" y=\"3em\"><defs /><svg width=\"100%\" x=\"0\" y=\"0em\"><defs /><text text-anchor=\"middle\" x=\"50%\" y=\"1em\">barked</text></svg><svg width=\"100%\" x=\"0%\" y=\"3em\"><defs /><svg width=\"100%\" x=\"0\" y=\"0em\"><defs /><text text-anchor=\"middle\" x=\"50%\" y=\"1em\">VBD</text></svg></svg><line stroke=\"black\" x1=\"50%\" x2=\"50%\" y1=\"1.2em\" y2=\"3em\" /></svg><line stroke=\"black\" x1=\"50%\" x2=\"37.2093%\" y1=\"1.2em\" y2=\"3em\" /><svg width=\"9.30233%\" x=\"46.5116%\" y=\"3em\"><defs /><svg width=\"100%\" x=\"0\" y=\"0em\"><defs /><text text-anchor=\"middle\" x=\"50%\" y=\"1em\">at</text></svg><svg width=\"100%\" x=\"0%\" y=\"3em\"><defs /><svg width=\"100%\" x=\"0\" y=\"0em\"><defs /><text text-anchor=\"middle\" x=\"50%\" y=\"1em\">IN</text></svg></svg><line stroke=\"black\" x1=\"50%\" x2=\"50%\" y1=\"1.2em\" y2=\"3em\" /></svg><line stroke=\"black\" x1=\"50%\" x2=\"51.1628%\" y1=\"1.2em\" y2=\"3em\" /><svg width=\"44.186%\" x=\"55.814%\" y=\"3em\"><defs /><svg width=\"100%\" x=\"0\" y=\"0em\"><defs /><text text-anchor=\"middle\" x=\"50%\" y=\"1em\">NP</text></svg><svg width=\"26.3158%\" x=\"0%\" y=\"3em\"><defs /><svg width=\"100%\" x=\"0\" y=\"0em\"><defs /><text text-anchor=\"middle\" x=\"50%\" y=\"1em\">the</text></svg><svg width=\"100%\" x=\"0%\" y=\"3em\"><defs /><svg width=\"100%\" x=\"0\" y=\"0em\"><defs /><text text-anchor=\"middle\" x=\"50%\" y=\"1em\">DT</text></svg></svg><line stroke=\"black\" x1=\"50%\" x2=\"50%\" y1=\"1.2em\" y2=\"3em\" /></svg><line stroke=\"black\" x1=\"50%\" x2=\"13.1579%\" y1=\"1.2em\" y2=\"3em\" /><svg width=\"47.3684%\" x=\"26.3158%\" y=\"3em\"><defs /><svg width=\"100%\" x=\"0\" y=\"0em\"><defs /><text text-anchor=\"middle\" x=\"50%\" y=\"1em\">meowing</text></svg><svg width=\"100%\" x=\"0%\" y=\"3em\"><defs /><svg width=\"100%\" x=\"0\" y=\"0em\"><defs /><text text-anchor=\"middle\" x=\"50%\" y=\"1em\">VBG</text></svg></svg><line stroke=\"black\" x1=\"50%\" x2=\"50%\" y1=\"1.2em\" y2=\"3em\" /></svg><line stroke=\"black\" x1=\"50%\" x2=\"50%\" y1=\"1.2em\" y2=\"3em\" /><svg width=\"26.3158%\" x=\"73.6842%\" y=\"3em\"><defs /><svg width=\"100%\" x=\"0\" y=\"0em\"><defs /><text text-anchor=\"middle\" x=\"50%\" y=\"1em\">cat</text></svg><svg width=\"100%\" x=\"0%\" y=\"3em\"><defs /><svg width=\"100%\" x=\"0\" y=\"0em\"><defs /><text text-anchor=\"middle\" x=\"50%\" y=\"1em\">NN</text></svg></svg><line stroke=\"black\" x1=\"50%\" x2=\"50%\" y1=\"1.2em\" y2=\"3em\" /></svg><line stroke=\"black\" x1=\"50%\" x2=\"86.8421%\" y1=\"1.2em\" y2=\"3em\" /></svg><line stroke=\"black\" x1=\"50%\" x2=\"77.907%\" y1=\"1.2em\" y2=\"3em\" /></svg>"
      ],
      "text/plain": [
       "TreeLayout(Tree('S', [Tree('NP', [('many', 'JJ'), ('dogs', 'NNS')]), ('barked', 'VBD'), ('at', 'IN'), Tree('NP', [('the', 'DT'), ('meowing', 'VBG'), ('cat', 'NN')])]))"
      ]
     },
     "execution_count": 624,
     "metadata": {},
     "output_type": "execute_result"
    }
   ],
   "source": [
    "cp = nltk.RegexpParser(grammar)\n",
    "result = cp.parse(sentence4)\n",
    "svgling.draw_tree(result)"
   ]
  },
  {
   "cell_type": "markdown",
   "metadata": {},
   "source": [
    "### Exercise 3\n",
    "\n",
    "Extend the grammar from Exercise 2 to also  handle coordinated noun phrases. Test your grammar with the following sentences and the sentences from Exercise 1 and 2:"
   ]
  },
  {
   "cell_type": "code",
   "execution_count": 625,
   "metadata": {},
   "outputs": [],
   "source": [
    "grammar = \"NP: {<P?DT>?<PRP\\$>?<JJ|CD>*<NN>*<.+G>*<NN[SP]?>(<CC>?<NN[SP]?>)*}\""
   ]
  },
  {
   "cell_type": "code",
   "execution_count": 626,
   "metadata": {},
   "outputs": [],
   "source": [
    "sentence6 = [(\"the\", \"DT\"), (\"man\", \"NN\"), (\"wants\", \"VBZ\"), (\"to\", \"TO\"), (\"leave\", \"VB\"),  (\"in\", \"IN\"), \n",
    "             (\"July\", \"NNP\"), (\"or\", \"CC\"), (\"August\", \"NNP\")]\n",
    "sentence7 = [(\"Donald\", \"NNP\"), (\"fired\", \"VBD\"), (\"all\", \"PDT\"), (\"your\", \"PRP$\"), (\"managers\", \"NNS\"), \n",
    "             (\"and\", \"CC\"), (\"supervisors\", \"NNS\")]\n",
    "sentence8 = [(\"company\", \"NN\"), (\"personnel\", \"NN\"), (\"policy\", \"NN\"), (\"has\", \"VBZ\"), (\"always\", \"RB\"), \n",
    "             (\"been\", \"VBN\"), (\"the\", \"DT\"), (\"law\", \"NN\"), (\"that\", \"WDT\"), (\"rules\", \"VBZ\"), \n",
    "             (\"company\", \"NN\"),  (\"courts\", \"NN\"), (\"and\", \"CC\"), (\"adjudicators\", \"NNS\")]"
   ]
  },
  {
   "cell_type": "code",
   "execution_count": 630,
   "metadata": {},
   "outputs": [
    {
     "data": {
      "image/svg+xml": [
       "<svg baseProfile=\"full\" height=\"168px\" preserveAspectRatio=\"xMidYMid meet\" style=\"font-family: times, serif; font-weight:normal; font-style: normal; font-size: 16px;\" version=\"1.1\" viewBox=\"0,0,848.0,168.0\" width=\"848px\" xmlns=\"http://www.w3.org/2000/svg\" xmlns:ev=\"http://www.w3.org/2001/xml-events\" xmlns:xlink=\"http://www.w3.org/1999/xlink\"><defs /><svg width=\"100%\" x=\"0\" y=\"0em\"><defs /><text text-anchor=\"middle\" x=\"50%\" y=\"1em\">S</text></svg><svg width=\"26.4151%\" x=\"0%\" y=\"3em\"><defs /><svg width=\"100%\" x=\"0\" y=\"0em\"><defs /><text text-anchor=\"middle\" x=\"50%\" y=\"1em\">NP</text></svg><svg width=\"32.1429%\" x=\"0%\" y=\"3em\"><defs /><svg width=\"100%\" x=\"0\" y=\"0em\"><defs /><text text-anchor=\"middle\" x=\"50%\" y=\"1em\">company</text></svg><svg width=\"100%\" x=\"0%\" y=\"3em\"><defs /><svg width=\"100%\" x=\"0\" y=\"0em\"><defs /><text text-anchor=\"middle\" x=\"50%\" y=\"1em\">NN</text></svg></svg><line stroke=\"black\" x1=\"50%\" x2=\"50%\" y1=\"1.2em\" y2=\"3em\" /></svg><line stroke=\"black\" x1=\"50%\" x2=\"16.0714%\" y1=\"1.2em\" y2=\"3em\" /><svg width=\"39.2857%\" x=\"32.1429%\" y=\"3em\"><defs /><svg width=\"100%\" x=\"0\" y=\"0em\"><defs /><text text-anchor=\"middle\" x=\"50%\" y=\"1em\">personnel</text></svg><svg width=\"100%\" x=\"0%\" y=\"3em\"><defs /><svg width=\"100%\" x=\"0\" y=\"0em\"><defs /><text text-anchor=\"middle\" x=\"50%\" y=\"1em\">NN</text></svg></svg><line stroke=\"black\" x1=\"50%\" x2=\"50%\" y1=\"1.2em\" y2=\"3em\" /></svg><line stroke=\"black\" x1=\"50%\" x2=\"51.7857%\" y1=\"1.2em\" y2=\"3em\" /><svg width=\"28.5714%\" x=\"71.4286%\" y=\"3em\"><defs /><svg width=\"100%\" x=\"0\" y=\"0em\"><defs /><text text-anchor=\"middle\" x=\"50%\" y=\"1em\">policy</text></svg><svg width=\"100%\" x=\"0%\" y=\"3em\"><defs /><svg width=\"100%\" x=\"0\" y=\"0em\"><defs /><text text-anchor=\"middle\" x=\"50%\" y=\"1em\">NN</text></svg></svg><line stroke=\"black\" x1=\"50%\" x2=\"50%\" y1=\"1.2em\" y2=\"3em\" /></svg><line stroke=\"black\" x1=\"50%\" x2=\"85.7143%\" y1=\"1.2em\" y2=\"3em\" /></svg><line stroke=\"black\" x1=\"50%\" x2=\"13.2075%\" y1=\"1.2em\" y2=\"3em\" /><svg width=\"4.71698%\" x=\"26.4151%\" y=\"3em\"><defs /><svg width=\"100%\" x=\"0\" y=\"0em\"><defs /><text text-anchor=\"middle\" x=\"50%\" y=\"1em\">has</text></svg><svg width=\"100%\" x=\"0%\" y=\"3em\"><defs /><svg width=\"100%\" x=\"0\" y=\"0em\"><defs /><text text-anchor=\"middle\" x=\"50%\" y=\"1em\">VBZ</text></svg></svg><line stroke=\"black\" x1=\"50%\" x2=\"50%\" y1=\"1.2em\" y2=\"3em\" /></svg><line stroke=\"black\" x1=\"50%\" x2=\"28.7736%\" y1=\"1.2em\" y2=\"3em\" /><svg width=\"7.54717%\" x=\"31.1321%\" y=\"3em\"><defs /><svg width=\"100%\" x=\"0\" y=\"0em\"><defs /><text text-anchor=\"middle\" x=\"50%\" y=\"1em\">always</text></svg><svg width=\"100%\" x=\"0%\" y=\"3em\"><defs /><svg width=\"100%\" x=\"0\" y=\"0em\"><defs /><text text-anchor=\"middle\" x=\"50%\" y=\"1em\">RB</text></svg></svg><line stroke=\"black\" x1=\"50%\" x2=\"50%\" y1=\"1.2em\" y2=\"3em\" /></svg><line stroke=\"black\" x1=\"50%\" x2=\"34.9057%\" y1=\"1.2em\" y2=\"3em\" /><svg width=\"5.66038%\" x=\"38.6792%\" y=\"3em\"><defs /><svg width=\"100%\" x=\"0\" y=\"0em\"><defs /><text text-anchor=\"middle\" x=\"50%\" y=\"1em\">been</text></svg><svg width=\"100%\" x=\"0%\" y=\"3em\"><defs /><svg width=\"100%\" x=\"0\" y=\"0em\"><defs /><text text-anchor=\"middle\" x=\"50%\" y=\"1em\">VBN</text></svg></svg><line stroke=\"black\" x1=\"50%\" x2=\"50%\" y1=\"1.2em\" y2=\"3em\" /></svg><line stroke=\"black\" x1=\"50%\" x2=\"41.5094%\" y1=\"1.2em\" y2=\"3em\" /><svg width=\"9.43396%\" x=\"44.3396%\" y=\"3em\"><defs /><svg width=\"100%\" x=\"0\" y=\"0em\"><defs /><text text-anchor=\"middle\" x=\"50%\" y=\"1em\">NP</text></svg><svg width=\"50%\" x=\"0%\" y=\"3em\"><defs /><svg width=\"100%\" x=\"0\" y=\"0em\"><defs /><text text-anchor=\"middle\" x=\"50%\" y=\"1em\">the</text></svg><svg width=\"100%\" x=\"0%\" y=\"3em\"><defs /><svg width=\"100%\" x=\"0\" y=\"0em\"><defs /><text text-anchor=\"middle\" x=\"50%\" y=\"1em\">DT</text></svg></svg><line stroke=\"black\" x1=\"50%\" x2=\"50%\" y1=\"1.2em\" y2=\"3em\" /></svg><line stroke=\"black\" x1=\"50%\" x2=\"25%\" y1=\"1.2em\" y2=\"3em\" /><svg width=\"50%\" x=\"50%\" y=\"3em\"><defs /><svg width=\"100%\" x=\"0\" y=\"0em\"><defs /><text text-anchor=\"middle\" x=\"50%\" y=\"1em\">law</text></svg><svg width=\"100%\" x=\"0%\" y=\"3em\"><defs /><svg width=\"100%\" x=\"0\" y=\"0em\"><defs /><text text-anchor=\"middle\" x=\"50%\" y=\"1em\">NN</text></svg></svg><line stroke=\"black\" x1=\"50%\" x2=\"50%\" y1=\"1.2em\" y2=\"3em\" /></svg><line stroke=\"black\" x1=\"50%\" x2=\"75%\" y1=\"1.2em\" y2=\"3em\" /></svg><line stroke=\"black\" x1=\"50%\" x2=\"49.0566%\" y1=\"1.2em\" y2=\"3em\" /><svg width=\"5.66038%\" x=\"53.7736%\" y=\"3em\"><defs /><svg width=\"100%\" x=\"0\" y=\"0em\"><defs /><text text-anchor=\"middle\" x=\"50%\" y=\"1em\">that</text></svg><svg width=\"100%\" x=\"0%\" y=\"3em\"><defs /><svg width=\"100%\" x=\"0\" y=\"0em\"><defs /><text text-anchor=\"middle\" x=\"50%\" y=\"1em\">WDT</text></svg></svg><line stroke=\"black\" x1=\"50%\" x2=\"50%\" y1=\"1.2em\" y2=\"3em\" /></svg><line stroke=\"black\" x1=\"50%\" x2=\"56.6038%\" y1=\"1.2em\" y2=\"3em\" /><svg width=\"6.60377%\" x=\"59.434%\" y=\"3em\"><defs /><svg width=\"100%\" x=\"0\" y=\"0em\"><defs /><text text-anchor=\"middle\" x=\"50%\" y=\"1em\">rules</text></svg><svg width=\"100%\" x=\"0%\" y=\"3em\"><defs /><svg width=\"100%\" x=\"0\" y=\"0em\"><defs /><text text-anchor=\"middle\" x=\"50%\" y=\"1em\">VBZ</text></svg></svg><line stroke=\"black\" x1=\"50%\" x2=\"50%\" y1=\"1.2em\" y2=\"3em\" /></svg><line stroke=\"black\" x1=\"50%\" x2=\"62.7358%\" y1=\"1.2em\" y2=\"3em\" /><svg width=\"33.9623%\" x=\"66.0377%\" y=\"3em\"><defs /><svg width=\"100%\" x=\"0\" y=\"0em\"><defs /><text text-anchor=\"middle\" x=\"50%\" y=\"1em\">NP</text></svg><svg width=\"25%\" x=\"0%\" y=\"3em\"><defs /><svg width=\"100%\" x=\"0\" y=\"0em\"><defs /><text text-anchor=\"middle\" x=\"50%\" y=\"1em\">company</text></svg><svg width=\"100%\" x=\"0%\" y=\"3em\"><defs /><svg width=\"100%\" x=\"0\" y=\"0em\"><defs /><text text-anchor=\"middle\" x=\"50%\" y=\"1em\">NN</text></svg></svg><line stroke=\"black\" x1=\"50%\" x2=\"50%\" y1=\"1.2em\" y2=\"3em\" /></svg><line stroke=\"black\" x1=\"50%\" x2=\"12.5%\" y1=\"1.2em\" y2=\"3em\" /><svg width=\"22.2222%\" x=\"25%\" y=\"3em\"><defs /><svg width=\"100%\" x=\"0\" y=\"0em\"><defs /><text text-anchor=\"middle\" x=\"50%\" y=\"1em\">courts</text></svg><svg width=\"100%\" x=\"0%\" y=\"3em\"><defs /><svg width=\"100%\" x=\"0\" y=\"0em\"><defs /><text text-anchor=\"middle\" x=\"50%\" y=\"1em\">NN</text></svg></svg><line stroke=\"black\" x1=\"50%\" x2=\"50%\" y1=\"1.2em\" y2=\"3em\" /></svg><line stroke=\"black\" x1=\"50%\" x2=\"36.1111%\" y1=\"1.2em\" y2=\"3em\" /><svg width=\"13.8889%\" x=\"47.2222%\" y=\"3em\"><defs /><svg width=\"100%\" x=\"0\" y=\"0em\"><defs /><text text-anchor=\"middle\" x=\"50%\" y=\"1em\">and</text></svg><svg width=\"100%\" x=\"0%\" y=\"3em\"><defs /><svg width=\"100%\" x=\"0\" y=\"0em\"><defs /><text text-anchor=\"middle\" x=\"50%\" y=\"1em\">CC</text></svg></svg><line stroke=\"black\" x1=\"50%\" x2=\"50%\" y1=\"1.2em\" y2=\"3em\" /></svg><line stroke=\"black\" x1=\"50%\" x2=\"54.1667%\" y1=\"1.2em\" y2=\"3em\" /><svg width=\"38.8889%\" x=\"61.1111%\" y=\"3em\"><defs /><svg width=\"100%\" x=\"0\" y=\"0em\"><defs /><text text-anchor=\"middle\" x=\"50%\" y=\"1em\">adjudicators</text></svg><svg width=\"100%\" x=\"0%\" y=\"3em\"><defs /><svg width=\"100%\" x=\"0\" y=\"0em\"><defs /><text text-anchor=\"middle\" x=\"50%\" y=\"1em\">NNS</text></svg></svg><line stroke=\"black\" x1=\"50%\" x2=\"50%\" y1=\"1.2em\" y2=\"3em\" /></svg><line stroke=\"black\" x1=\"50%\" x2=\"80.5556%\" y1=\"1.2em\" y2=\"3em\" /></svg><line stroke=\"black\" x1=\"50%\" x2=\"83.0189%\" y1=\"1.2em\" y2=\"3em\" /></svg>"
      ],
      "text/plain": [
       "TreeLayout(Tree('S', [Tree('NP', [('company', 'NN'), ('personnel', 'NN'), ('policy', 'NN')]), ('has', 'VBZ'), ('always', 'RB'), ('been', 'VBN'), Tree('NP', [('the', 'DT'), ('law', 'NN')]), ('that', 'WDT'), ('rules', 'VBZ'), Tree('NP', [('company', 'NN'), ('courts', 'NN'), ('and', 'CC'), ('adjudicators', 'NNS')])]))"
      ]
     },
     "execution_count": 630,
     "metadata": {},
     "output_type": "execute_result"
    }
   ],
   "source": [
    "cp = nltk.RegexpParser(grammar)\n",
    "result = cp.parse(sentence8)\n",
    "svgling.draw_tree(result)"
   ]
  },
  {
   "cell_type": "markdown",
   "metadata": {},
   "source": [
    "### Exercise 4\n",
    "\n",
    "Extend the chunk grammar from Exercise 1 to a multi-stage chunk grammar for a cascaded chunker that produces the following output for the three test sentences:\n",
    "\n",
    "    (S\n",
    "      (NP many/JJ dogs/NNS)\n",
    "      (VP barked/VBD (PP at/IN (NP the/DT cat/NN))))\n",
    "    (S\n",
    "      (NP two/CD dogs/NNS)\n",
    "      (VP barked/VBD (PP at/IN (NP the/DT cat/NN))))\n",
    "    (S\n",
    "      (NP both/DT new/JJ dogs/NNS)\n",
    "      (VP barked/VBD (PP at/IN (NP the/DT cat/NN))))"
   ]
  },
  {
   "cell_type": "code",
   "execution_count": 631,
   "metadata": {},
   "outputs": [],
   "source": [
    "grammar = r\"\"\"\n",
    "    NP: {<DT>?<JJ|CD>*<NNS?>}\n",
    "    PP: {<IN><NP>+}\n",
    "    VP: {<VBD><PP>+}\n",
    "\"\"\""
   ]
  },
  {
   "cell_type": "code",
   "execution_count": 632,
   "metadata": {},
   "outputs": [
    {
     "name": "stdout",
     "output_type": "stream",
     "text": [
      "(S\n",
      "  (NP many/JJ dogs/NNS)\n",
      "  (VP barked/VBD (PP at/IN (NP the/DT cat/NN))))\n",
      "(S\n",
      "  (NP two/CD dogs/NNS)\n",
      "  (VP barked/VBD (PP at/IN (NP the/DT cat/NN))))\n",
      "(S\n",
      "  (NP both/DT new/JJ dogs/NNS)\n",
      "  (VP barked/VBD (PP at/IN (NP the/DT cat/NN))))\n"
     ]
    }
   ],
   "source": [
    "cp = nltk.RegexpParser(grammar)\n",
    "print(cp.parse(sentence1))\n",
    "print(cp.parse(sentence2))\n",
    "print(cp.parse(sentence3))"
   ]
  },
  {
   "cell_type": "markdown",
   "metadata": {},
   "source": [
    "### Exercise 5\n",
    "\n",
    "Extend the multi-stage chunk grammar from Exercise 4 to also cover the test sentences from Exercise 2:\n",
    "\n",
    "    (S\n",
    "      (NP many/JJ dogs/NNS)\n",
    "      (VP barked/VBD (PP at/IN (NP the/DT meowing/VBG cat/NN))))\n",
    "    (S\n",
    "      (NP the/DT man/NN)\n",
    "      (VP\n",
    "        wants/VBZ\n",
    "        (INFCL\n",
    "          to/TO\n",
    "          (VP become/VB (NP assistant/NN managing/VBG director/NN))))) \n"
   ]
  },
  {
   "cell_type": "code",
   "execution_count": 633,
   "metadata": {},
   "outputs": [],
   "source": [
    "grammar = r\"\"\"\n",
    "    NP: {<DT>?<JJ|CD>*(<NN>?<.+G>?)*<NN[SP]?>}\n",
    "    PP: {<IN><NP>}\n",
    "    VP: {<VB.*><INFCL>?<PP>?<NP>?$}\n",
    "    INFCL: {<TO><VP>}\n",
    "\"\"\""
   ]
  },
  {
   "cell_type": "code",
   "execution_count": 634,
   "metadata": {},
   "outputs": [
    {
     "name": "stdout",
     "output_type": "stream",
     "text": [
      "(S\n",
      "  (NP many/JJ dogs/NNS)\n",
      "  (VP barked/VBD (PP at/IN (NP the/DT meowing/VBG cat/NN))))\n",
      "(S\n",
      "  (NP the/DT man/NN)\n",
      "  (VP\n",
      "    wants/VBZ\n",
      "    (INFCL\n",
      "      to/TO\n",
      "      (VP become/VB (NP assistant/NN managing/VBG director/NN)))))\n"
     ]
    }
   ],
   "source": [
    "cp = nltk.RegexpParser(grammar, loop=2)\n",
    "print(cp.parse(sentence4))\n",
    "print(cp.parse(sentence5))"
   ]
  },
  {
   "cell_type": "markdown",
   "metadata": {},
   "source": [
    "### Exercise 6\n",
    "\n",
    "Extend the multi-stage chunk grammar from Exercise 5 to also cover the test sentences from Exercise 3:\n",
    "\n",
    "    (S\n",
    "      (NP the/DT man/NN)\n",
    "      (VP\n",
    "        wants/VBZ\n",
    "        (INFCL\n",
    "          to/TO\n",
    "          (VP leave/VB (PP in/IN (NP July/NNP or/CC August/NNP))))))\n",
    "    (S\n",
    "      (NP Donald/NNP)\n",
    "      (VP\n",
    "        fired/VBD\n",
    "        (NP all/PDT your/PRP$ managers/NNS and/CC supervisors/NNS)))\n",
    "    (S\n",
    "      (NP company/NN personnel/NN policy/NN)\n",
    "      (VP\n",
    "        has/VBZ\n",
    "        always/RB\n",
    "        been/VBN\n",
    "        (NPRC\n",
    "          (NP the/DT law/NN)\n",
    "          (RELCL\n",
    "            that/WDT\n",
    "            (VP\n",
    "              rules/VBZ\n",
    "              (NP company/NN courts/NN and/CC adjudicators/NNS))))))"
   ]
  },
  {
   "cell_type": "code",
   "execution_count": 635,
   "metadata": {},
   "outputs": [],
   "source": [
    "grammar = r\"\"\"\n",
    "    NP: {<P?DT>?<PRP\\$>?<JJ|CD>*<NN>*<.+G>*<NN[SP]?>+(<CC>?<NN[SP]?>)*}\n",
    "    PP: {<IN><NP>}\n",
    "    VP: {<[VR]B.*>+<NP|INFCL|NPRC|PP>+$}\n",
    "    NPRC: {<NP><RELCL>}\n",
    "    RELCL: {<WDT><VP>}\n",
    "    INFCL: {<TO><VP>}\n",
    "\"\"\"\n",
    "# <[VR]B.*>+ might be restructured to <VB.*><RB>?<VB.*>?, depending on what RB stands for"
   ]
  },
  {
   "cell_type": "code",
   "execution_count": 636,
   "metadata": {},
   "outputs": [
    {
     "name": "stdout",
     "output_type": "stream",
     "text": [
      "(S\n",
      "  (NP the/DT man/NN)\n",
      "  (VP\n",
      "    wants/VBZ\n",
      "    (INFCL\n",
      "      to/TO\n",
      "      (VP leave/VB (PP in/IN (NP July/NNP or/CC August/NNP))))))\n",
      "(S\n",
      "  (NP Donald/NNP)\n",
      "  (VP\n",
      "    fired/VBD\n",
      "    (NP all/PDT your/PRP$ managers/NNS and/CC supervisors/NNS)))\n",
      "(S\n",
      "  (NP company/NN personnel/NN policy/NN)\n",
      "  (VP\n",
      "    has/VBZ\n",
      "    always/RB\n",
      "    been/VBN\n",
      "    (NPRC\n",
      "      (NP the/DT law/NN)\n",
      "      (RELCL\n",
      "        that/WDT\n",
      "        (VP\n",
      "          rules/VBZ\n",
      "          (NP company/NN courts/NN and/CC adjudicators/NNS))))))\n"
     ]
    }
   ],
   "source": [
    "cp = nltk.RegexpParser(grammar, loop=3)\n",
    "print(cp.parse(sentence6))\n",
    "print(cp.parse(sentence7))\n",
    "print(cp.parse(sentence8))"
   ]
  },
  {
   "cell_type": "markdown",
   "metadata": {},
   "source": [
    "### Exercise 7\n",
    "\n",
    "Select the VP chunks from the \"train\" portion of the CoNLL 2000 Chunking Data Corpus. Create a list of all the tag sequences that occur with each instance of this chunk type. Use a `FreqDist` to display the 100 most common tag sequences.  "
   ]
  },
  {
   "cell_type": "code",
   "execution_count": 637,
   "metadata": {},
   "outputs": [
    {
     "data": {
      "text/plain": [
       "2933"
      ]
     },
     "execution_count": 637,
     "metadata": {},
     "output_type": "execute_result"
    }
   ],
   "source": [
    "vp_chunks = conll2000.chunked_sents('train.txt', chunk_types=['VP'])\n",
    "\n",
    "seqs = []\n",
    "for sent in vp_chunks:\n",
    "    for tag in sent:\n",
    "        if len(tag) > 2:\n",
    "            # len == number of children this tree node has\n",
    "            seqs.append(tag)\n",
    "        \n",
    "len(seqs) # List of subtress with label 'VP'"
   ]
  },
  {
   "cell_type": "code",
   "execution_count": 638,
   "metadata": {},
   "outputs": [],
   "source": [
    "phrases = [\" \".join([word for word, tag in seq.leaves()]) for seq in seqs]"
   ]
  },
  {
   "cell_type": "code",
   "execution_count": 639,
   "metadata": {},
   "outputs": [
    {
     "data": {
      "text/plain": [
       "[(\"do n't know\", 13),\n",
       " ('declined to comment', 12),\n",
       " (\"do n't have\", 12),\n",
       " (\"wo n't be\", 11),\n",
       " ('will be used', 9),\n",
       " (\"could n't be reached\", 9),\n",
       " (\"do n't think\", 9),\n",
       " (\"do n't expect\", 8),\n",
       " ('may not be', 6),\n",
       " (\"were n't disclosed\", 6),\n",
       " (\"'s going to be\", 6),\n",
       " ('agreed to sell', 6),\n",
       " (\"did n't affect\", 5),\n",
       " ('plans to sell', 5),\n",
       " (\"would n't be\", 5),\n",
       " ('expects to report', 5),\n",
       " ('to be sold', 4),\n",
       " (\"does n't have\", 4),\n",
       " (\"does n't think\", 4),\n",
       " ('to buy or sell', 4),\n",
       " (\"did n't have\", 4),\n",
       " ('used to be', 4),\n",
       " ('could be used', 4),\n",
       " (\"did n't return\", 4),\n",
       " ('are expected to be', 4),\n",
       " ('is going to be', 4),\n",
       " (\"did n't say\", 4),\n",
       " (\"would n't comment\", 4),\n",
       " ('is expected to take', 4),\n",
       " ('will be sold', 4),\n",
       " ('tend to be', 4),\n",
       " (\"wo n't do\", 3),\n",
       " ('will be made', 3),\n",
       " (\"does n't already own\", 3),\n",
       " ('has long been', 3),\n",
       " (\"have n't been\", 3),\n",
       " (\"does n't expect\", 3),\n",
       " (\"do n't pay\", 3),\n",
       " (\"does n't pay\", 3),\n",
       " (\"do n't include\", 3),\n",
       " ('bought and sold', 3),\n",
       " (\"did n't believe\", 3),\n",
       " (\"has n't changed\", 3),\n",
       " (\"could n't immediately be reached\", 3),\n",
       " ('failed to obtain', 3),\n",
       " ('want to have', 3),\n",
       " ('trying to get', 3),\n",
       " (\"does n't include\", 3),\n",
       " ('agreed to buy', 3),\n",
       " ('should be completed', 3),\n",
       " (\"did n't know\", 3),\n",
       " ('are scheduled to be fixed', 3),\n",
       " ('plans to launch', 3),\n",
       " ('is scheduled to resume', 3),\n",
       " ('will be allowed to export', 3),\n",
       " ('will continue to be', 3),\n",
       " (\"has n't received\", 3),\n",
       " ('would have been', 3),\n",
       " (\"are n't covered\", 3),\n",
       " ('expects to pay', 3),\n",
       " (\"do n't suggest\", 2),\n",
       " ('to be reflected', 2),\n",
       " ('plans to raise', 2),\n",
       " ('seems to be', 2),\n",
       " ('to be completed', 2),\n",
       " ('plans to remain', 2),\n",
       " ('has bought and sold', 2),\n",
       " ('appears to be', 2),\n",
       " (\"do n't see\", 2),\n",
       " ('will be established', 2),\n",
       " ('agreed to merge', 2),\n",
       " ('to be borrowed', 2),\n",
       " ('would have given', 2),\n",
       " ('intends to press', 2),\n",
       " (\"does n't infringe\", 2),\n",
       " ('agreed to recall', 2),\n",
       " ('have to come', 2),\n",
       " ('continue to be', 2),\n",
       " ('may be needed', 2),\n",
       " ('plans to make', 2),\n",
       " ('was believed to be', 2),\n",
       " (\"wo n't go\", 2),\n",
       " (\"does n't believe\", 2),\n",
       " (\"has n't done\", 2),\n",
       " ('is being offered', 2),\n",
       " ('tend to have', 2),\n",
       " ('should have been', 2),\n",
       " ('have been looking', 2),\n",
       " ('has not been', 2),\n",
       " ('plan to offer', 2),\n",
       " ('seem to be', 2),\n",
       " ('wanted to show', 2),\n",
       " ('declines to comment', 2),\n",
       " (\"does n't consider\", 2),\n",
       " ('would have kept', 2),\n",
       " ('has to be', 2),\n",
       " (\"does n't know\", 2),\n",
       " ('need to sell', 2),\n",
       " (\"does n't need\", 2),\n",
       " (\"does n't mean\", 2)]"
      ]
     },
     "execution_count": 639,
     "metadata": {},
     "output_type": "execute_result"
    }
   ],
   "source": [
    "freq_dist = nltk.FreqDist(phrases)\n",
    "freq_dist.most_common(100)"
   ]
  }
 ],
 "metadata": {
  "kernelspec": {
   "display_name": "Python 3 (ipykernel)",
   "language": "python",
   "name": "python3"
  },
  "language_info": {
   "codemirror_mode": {
    "name": "ipython",
    "version": 3
   },
   "file_extension": ".py",
   "mimetype": "text/x-python",
   "name": "python",
   "nbconvert_exporter": "python",
   "pygments_lexer": "ipython3",
   "version": "3.9.4"
  }
 },
 "nbformat": 4,
 "nbformat_minor": 4
}
